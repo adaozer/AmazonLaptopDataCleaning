{
 "cells": [
  {
   "cell_type": "code",
   "execution_count": 152,
   "id": "b8dad7bf",
   "metadata": {},
   "outputs": [],
   "source": [
    "import pandas as pd\n",
    "import matplotlib.pyplot as plt\n",
    "import seaborn as sns\n",
    "import numpy as np\n",
    "\n",
    "## Color muhtemelen pointless\n",
    "## Anti Glareların hepsini aynı isimde toplamak gerekiyo\n",
    "## ratinge gerek var mı emin değilim\n",
    "## DELL, dell, lenovo, enovo, Lenovo gibi aynı şeyin farklı yazılışlarını çözmek gerekiyo\n",
    "## devamı Core i7, i7, Windows 10 Pro, Windows 10 Home gibi \n",
    "## graphicse girdiğimde sadece integrated ve dedicated var, kalanları hikaye"
   ]
  },
  {
   "cell_type": "code",
   "execution_count": 153,
   "id": "13e92f9e",
   "metadata": {},
   "outputs": [],
   "source": [
    "# Read the dataset\n",
    "df = pd.read_excel('amazon_laptop_2023.xlsx')"
   ]
  },
  {
   "cell_type": "code",
   "execution_count": 154,
   "id": "56c61c92",
   "metadata": {},
   "outputs": [
    {
     "name": "stdout",
     "output_type": "stream",
     "text": [
      "['brand', 'model', 'screen_size', 'color', 'harddisk', 'cpu', 'ram', 'OS', 'special_features', 'graphics', 'graphics_coprocessor', 'cpu_speed', 'rating', 'price']\n",
      "14\n",
      "brand                   4446\n",
      "model                   3282\n",
      "screen_size             4417\n",
      "color                   3867\n",
      "harddisk                3870\n",
      "cpu                     4346\n",
      "ram                     4385\n",
      "OS                      4420\n",
      "special_features        2054\n",
      "graphics                4381\n",
      "graphics_coprocessor    2574\n",
      "cpu_speed               1520\n",
      "rating                  2174\n",
      "price                   4441\n",
      "dtype: int64\n"
     ]
    }
   ],
   "source": [
    "# See which columns exist and how many, then check how full they are.\n",
    "print(df.columns.tolist())\n",
    "print(len(df.columns.tolist()))\n",
    "print(df.count())"
   ]
  },
  {
   "cell_type": "code",
   "execution_count": 155,
   "id": "414a7603",
   "metadata": {},
   "outputs": [
    {
     "name": "stdout",
     "output_type": "stream",
     "text": [
      "14\n"
     ]
    }
   ],
   "source": [
    "# Drop any fully NA columns just in case\n",
    "df.dropna(axis=1, how=\"all\")\n",
    "print(len(df.columns.tolist()))"
   ]
  },
  {
   "cell_type": "code",
   "execution_count": 156,
   "id": "3da78cec",
   "metadata": {},
   "outputs": [
    {
     "data": {
      "text/plain": [
       "brand                    object\n",
       "model                    object\n",
       "screen_size              object\n",
       "color                    object\n",
       "harddisk                 object\n",
       "cpu                      object\n",
       "ram                      object\n",
       "OS                       object\n",
       "special_features         object\n",
       "graphics                 object\n",
       "graphics_coprocessor     object\n",
       "cpu_speed                object\n",
       "rating                  float64\n",
       "price                    object\n",
       "dtype: object"
      ]
     },
     "execution_count": 156,
     "metadata": {},
     "output_type": "execute_result"
    }
   ],
   "source": [
    "# See if there are any wrong type columns (ex. object when it should be a float for a numerical value)\n",
    "\n",
    "df.dtypes"
   ]
  },
  {
   "cell_type": "code",
   "execution_count": 158,
   "id": "426056d7",
   "metadata": {},
   "outputs": [],
   "source": [
    "# You can't recommend someone a laptop if you don't know its price/brand/model\n",
    "df.dropna(subset=['brand'], inplace=True)\n",
    "df.dropna(subset=['model'], inplace=True)\n",
    "df.dropna(subset=['price'], inplace=True)\n",
    "df.drop_duplicates(inplace=True)"
   ]
  },
  {
   "cell_type": "code",
   "execution_count": 159,
   "id": "1ae31ae2",
   "metadata": {},
   "outputs": [
    {
     "data": {
      "text/plain": [
       "brand                   2492\n",
       "model                   2492\n",
       "screen_size             2483\n",
       "color                   2025\n",
       "harddisk                2347\n",
       "cpu                     2449\n",
       "ram                     2441\n",
       "OS                      2484\n",
       "special_features        1671\n",
       "graphics                2443\n",
       "graphics_coprocessor     961\n",
       "cpu_speed                270\n",
       "rating                   967\n",
       "price                   2492\n",
       "dtype: int64"
      ]
     },
     "execution_count": 159,
     "metadata": {},
     "output_type": "execute_result"
    }
   ],
   "source": [
    "df.count()"
   ]
  },
  {
   "cell_type": "code",
   "execution_count": 160,
   "id": "b1a8fc45",
   "metadata": {},
   "outputs": [
    {
     "data": {
      "text/plain": [
       "Integrated                            1537\n",
       "Dedicated                              428\n",
       "Iris Xe Graphics                        85\n",
       "Nvidia GeForce RTX 4070                 27\n",
       "UHD Graphics                            24\n",
       "                                      ... \n",
       "Integrated intel IRIS Xe Plus GPU        1\n",
       "RTX 3070Ti                               1\n",
       "GeForce GTX 1650 Ti                      1\n",
       "Nvidia GeForce RTX 4070, Dedicated       1\n",
       "NVIDIA GeForce GTX 1650 4GB              1\n",
       "Name: graphics, Length: 108, dtype: int64"
      ]
     },
     "execution_count": 160,
     "metadata": {},
     "output_type": "execute_result"
    }
   ],
   "source": [
    "df[\"graphics\"].value_counts()"
   ]
  },
  {
   "cell_type": "code",
   "execution_count": 161,
   "id": "0475d4be",
   "metadata": {},
   "outputs": [
    {
     "name": "stdout",
     "output_type": "stream",
     "text": [
      "Iris Xe Graphics\n",
      "Iris Xe Graphics\n",
      "Radeon Graphics\n",
      "Nvidia GeForce MX250\n",
      "Iris Xe Graphics\n",
      "Nvidia GeForce RTX A500\n",
      "Iris Xe Graphics\n",
      "Iris Xe Graphics\n",
      "Integrated, Dedicated\n",
      "Radeon Graphics\n",
      "Iris Xe Graphics\n",
      "Nvidia GeForce MX250\n",
      "UHD Graphics\n",
      "UHD Graphics\n",
      "UHD Graphics\n",
      "RTX T600\n",
      "T550\n",
      "RTX 3060\n",
      "Radeon Graphics\n",
      "Nvidia GeForce RTX A500\n",
      "Nvidia GeForce MX350\n",
      "Radeon Graphics\n",
      "Iris Xe Graphics\n",
      "RTX 3060\n",
      "Iris Xe Graphics\n",
      "Nvidia GeForce RTX 3050\n",
      "Iris Xe Graphics\n",
      "Nvidia GeForce RTX 3050\n",
      "Nvidia GeForce RTX 3050 Ti\n",
      "Iris Xe Graphics\n",
      "UHD Graphics\n",
      "UHD Graphics\n",
      "Nvidia GeForce RTX 3050\n",
      "Nvidia GeForce RTX 3050 Ti\n",
      "Nvidia GeForce RTX 3050\n",
      "Nvidia GeForce RTX 2050\n",
      "Iris Xe Graphics\n",
      "Nvidia GeForce RTX 3050 Ti\n",
      "Integrated, Dedicated\n",
      "UHD Graphics\n",
      "Iris X Graphics\n",
      "Iris Xe Graphics\n",
      "Nvidia GeForce RTX 3050 Ti\n",
      "RTX A3000\n",
      "Integrated, Dedicated\n",
      "Nvidia GeForce RTX 3050\n",
      "Nvidia GeForce RTX 2050\n",
      "Nvidia GeForce RTX 3050 Ti\n",
      "Iris Xe Graphics\n",
      "Nvidia GeForce RTX 3050\n",
      "Nvidia GeForce RTX 3050 Ti\n",
      "Intel XE\n",
      "Radeon Graphics\n",
      "Nvidia GeForce RTX 3050 Ti\n",
      "Iris Xe\n",
      "Nvidia Quadro T550\n",
      "Nvidia GeForce RTX 3060\n",
      "Nvidia Quadro T550\n",
      "Nvidia GeForce RTX 3060\n",
      "Iris Xe Graphics\n",
      "Iris Xe Graphics\n",
      "Quadro T500\n",
      "Nvidia GeForce RTX 3050 Ti\n",
      "Iris Xe Graphics\n",
      "Nvidia GeForce RTX 3050 Ti\n",
      "Nvidia GeForce RTX 3050 Ti\n",
      "Nvidia GeForce RTX 4050\n",
      "Iris Xe Graphics\n",
      "Iris Xe Graphics\n",
      "Iris Xe Graphics\n",
      "Iris Xe Graphics\n",
      "RTX A1000\n",
      "Intel Iris Xáµ‰\n",
      "Nvidia GeForce RTX 4060\n",
      "Iris Xe Graphics\n",
      "Nvidia GeForce RTX 3060\n",
      "Radeon 680M Graphics\n",
      "RTX 4070\n",
      "RTX 3050 Ti\n",
      "Integrated, Dedicated\n",
      "Radeon 680M Graphics\n",
      "Iris Xe Graphics\n",
      "T550\n",
      "Iris Xe Graphics\n",
      "Nvidia GeForce RTX 3060\n",
      "Nvidia GeForce RTX 2070 Super\n",
      "Iris Xe Graphics\n",
      "Nvidia GeForce RTX 3050\n",
      "Nvidia GeForce RTX 3050\n",
      "Nvidia GeForce RTX A500\n",
      "Nvidia GeForce RTX 3050\n",
      "Iris Xe Graphics\n",
      "GT2 Graphics\n",
      "Iris Xe Graphics\n",
      "GeForce RTX 3070 Ti,Iris Xe Graphics\n",
      "Iris Xe Graphics\n",
      "Nvidia GeForce RTX 3060\n",
      "Nvidia GeForce RTX 3050\n",
      "Nvidia GeForce RTX 4050\n",
      "Nvidia GeForce RTX A500\n",
      "RTX 3060\n",
      "NVIDIA RTX3070\n",
      "T550\n",
      "Iris Xe Graphics\n",
      "AMD RADEON RX 540\n",
      "Iris Xe Graphics\n",
      "RTX2050\n",
      "UHD Graphics\n",
      "RTX A500\n",
      "Nvidia Quadro T2000\n",
      "Iris Xe Graphics\n",
      "Radeon Graphics\n",
      "Radeon 680M Graphics\n",
      "Integrated, Dedicated\n",
      "Iris Xe Graphics\n",
      "RTX T600\n",
      "Iris Xe Graphics\n",
      "RTX 3070 Ti\n",
      "Iris Xe Graphics\n",
      "Iris Xe Graphics\n",
      "Nvidia GeForce RTX A500\n",
      "Iris Xe Graphics\n",
      "Iris Xe Graphics\n",
      "Nvidia GeForce RTX 3070 Ti\n",
      "Iris Xe Graphics\n",
      "Iris Xe Graphics\n",
      "Iris Xe Graphics\n",
      "T500,Iris Xe Graphics\n",
      "GeForce RTX 3080\n",
      "NVIDIA GeForce RTX2060\n",
      "RTX A2000\n",
      "Integrated, Dedicated\n",
      "Intel XE\n",
      "Nvidia GeForce MX550\n",
      "Intel Arc A370M\n",
      "Iris Xe Graphics\n",
      "Iris Xe Graphics\n",
      "T550\n",
      "Nvidia T1200\n",
      "Iris Xe Graphics\n",
      "RTX A500\n",
      "Intel XE\n",
      "Nvidia RTX A3000\n",
      "Nvidia Quadro RTX 3000\n",
      "AMD RADEON RX 540\n",
      "Iris Xe Graphics\n",
      "T1200\n",
      "RTX A1000\n",
      "Intel Arc A370M\n",
      "Nvidia RTX A2000\n",
      "Nvidia GeForce RTX A500\n",
      "Nvidia GeForce RTX 2070\n",
      "Iris Xe Graphics\n",
      "Nvidia Quadro RTX 3000\n",
      "Nvidia Quadro RTX 3000\n",
      "AMD Radeon RX 7600\n",
      "T550\n",
      "GeForce RTX 3070\n",
      "QN20-M1-R\n",
      "Iris Xe Graphics\n",
      "Iris Xe Graphics\n",
      "Iris Xe Graphics\n",
      "Nvidia GeForce RTX A500\n",
      "Iris Xe Graphics\n",
      "RTX 4060\n",
      "RTX A500\n",
      "Iris Xe Graphics\n",
      "GeForce RTX 3050\n",
      "AMD RADEON RX 540\n",
      "Nvidia GeForce MX250\n",
      "Iris Xe Graphics\n",
      "Nvidia RTX A1000\n",
      "T1200\n",
      "GeForce RTX 3070\n",
      "Iris Xe Graphics\n",
      "T500,Iris Xe Graphics\n",
      "Iris Xe Graphics\n",
      "Nvidia GeForce RTX 3070\n",
      "Nvidia GeForce RTX 4050\n",
      "Nvidia GeForce GTX 1650 Ti\n",
      "Integrated, Dedicated\n",
      "RTX 2070 Super\n",
      "Nvidia GeForce RTX 3050 Ti\n",
      "Nvidia GeForce RTX 3050 Ti\n",
      "UHD Graphics 610\n",
      "HD Graphics, Integrated\n",
      "shared\n",
      "Nvidia RTX A1000\n",
      "GeForce RTX 4050\n",
      "Nvidia GeForce RTX 4060\n",
      "Iris Xe Graphics\n",
      "Iris Xe Graphics\n",
      "RTX A500\n",
      "Iris Xe Graphics\n",
      "T500,HD Graphics, Dedicated\n",
      "GeForce RTX 3080\n",
      "Nvidia GeForce RTX 4060\n",
      "Nvidia GeForce RTX 4060\n",
      "Nvidia T1200\n",
      "Nvidia GeForce RTX 3070\n",
      "GeForce RTX 3050\n",
      "Nvidia GeForce RTX A500\n",
      "Nvidia T1200\n",
      "Radeon 680M Graphics\n",
      "Iris Xe Graphics\n",
      "Radeon 680M Graphics\n",
      "Nvidia GeForce RTX 4060\n",
      "Nvidia GeForce RTX 3050\n",
      "Nvidia RTX A2000\n",
      "Iris Xe Graphics\n",
      "Nvidia GeForce RTX 4070\n",
      "Nvidia RTX A1000\n",
      "Nvidia T1200\n",
      "T550\n",
      "GeForce GTX 1650\n",
      "Iris Xe Graphics\n",
      "Nvidia GeForce RTX 4070\n",
      "Radeon 680M\n",
      "Nvidia RTX A2000\n",
      "Nvidia GeForce RTX 3070\n",
      "Nvidia RTX 2000 Ada\n",
      "Nvidia GeForce RTX 4070\n",
      "Nvidia GeForce RTX 4050\n",
      "Nvidia GeForce RTX 4050\n",
      "Nvidia RTX 2000 Ada\n",
      "Iris Xe Graphics\n",
      "Nvidia GeForce RTX 4050\n",
      "Iris Xe Graphics\n",
      "QN20-M1-R\n",
      "GeForce RTX 3050 Ti\n",
      "Nvidia GeForce RTX 3080\n",
      "Nvidia GeForce RTX 4070\n",
      "Nvidia GeForce RTX 4070\n",
      "RTX A2000\n",
      "Nvidia T1200\n",
      "Nvidia T1200\n",
      "Integrated intel IRIS Xe Plus GPU\n",
      "Radeon 680M\n",
      "Nvidia RTX 2000 Ada\n",
      "Nvidia GeForce RTX 3070\n",
      "Nvidia GeForce RTX 4070\n",
      "Nvidia GeForce RTX 4050\n",
      "Nvidia RTX A1000\n",
      "Iris Xe Graphics\n",
      "Nvidia T1200\n",
      "T550\n",
      "Nvidia GeForce RTX 4060\n",
      "Nvidia GeForce RTX 4060\n",
      "Nvidia GeForce RTX 4060\n",
      "RTX A2000\n",
      "Iris Xe Graphics\n",
      "RTX A1000\n",
      "Nvidia GeForce RTX 4060\n",
      "RTX 3060\n",
      "RTX 3070Ti\n",
      "Nvidia Quadro T2000\n",
      "Nvidia RTX A2000\n",
      "RTX A1000\n",
      "Nvidia GeForce RTX 4070\n",
      "Nvidia GeForce RTX 4050\n",
      "Nvidia GeForce RTX 4070\n",
      "Nvidia GeForce RTX 4060\n",
      "RTX A1000\n",
      "Nvidia RTX A2000\n",
      "Nvidia GeForce RTX 4070\n",
      "Nvidia GeForce RTX 3070 Ti\n",
      "Nvidia GeForce RTX 4070\n",
      "GeForce GTX 1650 Ti\n",
      "RTX A2000\n",
      "Nvidia GeForce RTX 3050 Ti\n",
      "Nvidia GeForce RTX 4070\n",
      "Nvidia GeForce RTX 4060\n",
      "Nvidia RTX A1000\n",
      "Nvidia GeForce RTX 4050\n",
      "Nvidia GeForce RTX 4070\n",
      "Nvidia GeForce RTX 4070\n",
      "Iris Xe Graphics\n",
      "Nvidia GeForce RTX 4070\n",
      "Nvidia GeForce RTX 4070, Dedicated\n",
      "Nvidia GeForce RTX 4070\n",
      "Nvidia RTX A2000\n",
      "RTX 3080 Ti\n",
      "RTX 4070\n",
      "Nvidia RTX A3000\n",
      "RTX A3000\n",
      "Nvidia GeForce RTX 4070\n",
      "Nvidia GeForce RTX 4070\n",
      "Nvidia GeForce RTX 4080\n",
      "Nvidia RTX A1000\n",
      "Iris Xe Graphics\n",
      "T500,Iris Xe Graphics\n",
      "Nvidia RTX A3000\n",
      "Nvidia GeForce RTX 4070\n",
      "Nvidia RTX A3000\n",
      "RTX 4080\n",
      "RTX A2000\n",
      "RTX 2060\n",
      "Nvidia GeForce RTX 4070\n",
      "Nvidia GeForce RTX 4070\n",
      "Nvidia Quadro RTX 3000\n",
      "Nvidia GeForce RTX 3050 Ti\n",
      "Nvidia RTX A3000\n",
      "Nvidia RTX A3000\n",
      "Nvidia RTX A3000\n",
      "Nvidia RTX 4000 Ada\n",
      "Nvidia RTX A3000\n",
      "Nvidia RTX A3000\n",
      "RTX 3060\n",
      "Nvidia GeForce RTX 3050 Ti\n",
      "Nvidia GeForce RTX 3050 Ti\n",
      "Nvidia RTX A4000\n",
      "RTX 3080 Ti\n",
      "Nvidia RTX 2000 Ada\n",
      "Nvidia GeForce RTX 3060\n",
      "Nvidia GeForce RTX 3050 Ti\n",
      "Integrated, Dedicated\n",
      "Nvidia GeForce RTX 4060\n",
      "Nvidia GeForce RTX 4090\n",
      "Nvidia RTX A1000\n",
      "Nvidia RTX A4000\n",
      "Nvidia GeForce RTX 4090\n",
      "UHD Graphics\n",
      "Integrated, Dedicated\n",
      "UHD Graphics\n",
      "UHD Graphics 600\n",
      "UHD Graphics\n",
      "Nvidia GeForce RTX 4080\n",
      "Nvidia GeForce RTX 4090\n",
      "Nvidia GeForce RTX 3050 Ti\n",
      "Nvidia GeForce RTX 4090\n",
      "RTX A1000\n",
      "Nvidia RTX A3000\n",
      "RTX 3070\n",
      "Nvidia GeForce RTX 4070\n",
      "Nvidia RTX A3000\n",
      "Nvidia GeForce RTX 4080\n",
      "Nvidia GeForce RTX 3080\n",
      "Nvidia GeForce RTX 4090\n",
      "Nvidia RTX A3000\n",
      "Nvidia GeForce RTX 4070\n",
      "Nvidia RTX A5500\n",
      "Nvidia GeForce RTX 4070\n",
      "Nvidia RTX A2000\n",
      "Nvidia GeForce RTX 4090\n",
      "RTX A2000,UHD Graphics\n",
      "Nvidia GeForce RTX 3080 Ti\n",
      "Nvidia RTX A3000\n",
      "Nvidia GeForce RTX 3050 Ti\n",
      "Nvidia GeForce RTX 4070\n",
      "Nvidia RTX A3000\n",
      "Nvidia GeForce RTX 3050 Ti\n",
      "Nvidia RTX A4500\n",
      "Nvidia RTX A4500\n",
      "Nvidia GeForce RTX 4090\n",
      "Nvidia RTX A4500\n",
      "RTX A2000\n",
      "Nvidia GeForce RTX 3050 Ti\n",
      "Nvidia RTX A3000\n",
      "Nvidia GeForce RTX 4070\n",
      "Nvidia Quadro RTX 3000\n",
      "Nvidia RTX A3000\n",
      "Nvidia GeForce RTX 4070\n",
      "RTX A3000\n",
      "Nvidia GeForce RTX 4070\n",
      "Nvidia GeForce RTX 3050 Ti\n",
      "Nvidia GeForce RTX 4090\n",
      "Nvidia RTX A4500\n",
      "Nvidia GeForce RTX 4090\n",
      "GeForce RTX 3080 Ti\n",
      "NVIDIAÂ® GeForce RTXâ„¢ 4060\n",
      "Nvidia GeForce RTX 4090\n",
      "Quadro RTX 4000 with Max-Q Design, 8GB GDDR6\n",
      "Nvidia GeForce RTX 4080\n",
      "Nvidia GeForce RTX 4090\n",
      "Nvidia GeForce RTX 4090\n",
      "Nvidia GeForce RTX 4090\n",
      "RTX 3500 Ada\n",
      "UHD Graphics\n",
      "UHD Graphics\n",
      "UHD Graphics\n",
      "Integrated, Dedicated\n",
      "UHD Graphics\n",
      "Intel UHD Graphics\n",
      "UHD Graphics 610\n",
      "Integrated, Dedicated\n",
      "Integrated, Dedicated\n",
      "Integrated, Dedicated\n",
      "Nvidia T1200\n",
      "Nvidia GeForce RTX 3050 Ti\n",
      "GeForce RTX 3080\n",
      "Nvidia GeForce RTX 4090\n",
      "Nvidia RTX A3000\n",
      "Nvidia GeForce GTX 1650 Ti\n",
      "Nvidia GeForce GTX 1650 Ti\n",
      "Nvidia GeForce RTX 4090\n",
      "NVIDIA RTX 2060\n",
      "RTX A5000,UHD Graphics\n",
      "UHD Graphics\n",
      "UHD Graphics\n",
      "Intel UHD Graphics\n",
      "Integrated, Dedicated\n",
      "Integrated, Dedicated\n",
      "UHD Graphics\n",
      "RTX A5000,UHD Graphics\n",
      "RTX 3080 Ti\n",
      "Radeon Graphics\n",
      "Iris Xe Graphics\n",
      "Intel HD Graphics 5000, Integrated\n",
      "Radeon Graphics\n",
      "UHD Graphics\n",
      "Adreno 618\n",
      "AMD Radeon Graphics\n",
      "Iris Xe Graphics\n",
      "AMD Integrated Graphics\n",
      "AMD Radeon\n",
      "AMD Integrated Graphics\n",
      "Iris Xe Graphics\n",
      "AMD Integrated Graphics\n",
      "Iris Xe Graphics\n",
      "Integrated AMD Radeonâ„¢ Graphics\n",
      "GeForce RTX 2050\n",
      "Integrated, Dedicated\n",
      "Iris Xe Graphics\n",
      "Integrated, Dedicated\n",
      "Integrated, Dedicated\n",
      "Iris Xe Graphics\n",
      "Intel Iris, Integrated\n",
      "Integrated, Dedicated\n",
      "Intel HD Graphics 620, Integrated\n",
      "UHD Graphics\n",
      "Iris Xe Graphics\n",
      "UHD Graphics\n",
      "Radeon Graphics\n",
      "AMD Radeon Graphics\n",
      "UHD Graphics\n",
      "Radeon Graphics\n",
      "Integrated, Dedicated\n",
      "RTX 3050\n",
      "Iris Xe Graphics\n",
      "Radeon Graphics\n",
      "RTX 3050\n",
      "Iris Xe Graphics\n",
      "UHD Graphics\n",
      "Iris Xe Graphics\n",
      "Radeon Graphics\n",
      "Integrated, Dedicated\n",
      "UHD Graphics\n",
      "Nvidia GeForce MX450\n",
      "Iris Xe Graphics\n",
      "Iris Xe Graphics\n",
      "Radeon Graphics\n",
      "Iris Xe Graphics\n",
      "AMD Radeon\n",
      "Radeon Graphics\n",
      "Radeon Graphics\n",
      "Integrated, Dedicated\n",
      "Radeon Graphics\n",
      "Radeon Graphics\n",
      "Iris Xe Graphics\n",
      "Iris Xe Graphics\n",
      "UHD Graphics\n",
      "Iris Xe Graphics\n",
      "Iris Xe Graphics\n",
      "Intel UHD Graphics\n",
      "Iris Xe Graphics\n",
      "RTX 4050\n",
      "Iris Xe Graphics\n",
      "RTX 3050 Ti\n",
      "Iris Xe Graphics\n",
      "Iris Xe Graphics\n",
      "Nvidia GeForce MX250\n",
      "Radeon Graphics\n",
      "NVIDIA GeForce GTX 1650 4GB\n",
      "Nvidia Quadro T550\n",
      "Iris X Graphics\n",
      "AMD RADEON RX 540\n",
      "Iris X Graphics\n",
      "Radeon Graphics\n"
     ]
    }
   ],
   "source": [
    "# Check to find all the names of the occuring integrated graphic card names, and group them under integrated.\n",
    "graphics = list(df[\"graphics\"])\n",
    "gra = [\"Dedicated\", \"Integrated\", \"nan\"]\n",
    "for i in graphics:\n",
    "    if str(i) not in gra:\n",
    "        print(i)"
   ]
  },
  {
   "cell_type": "code",
   "execution_count": 162,
   "id": "7834084f",
   "metadata": {},
   "outputs": [],
   "source": [
    "inded = [\"Integrated\", \"Dedicated\", \"Integrated, Dedicated\", \"nan\"]\n",
    "for i in range(len(graphics)):\n",
    "    if str(graphics[i]) not in inded:\n",
    "        df.iloc[i, df.columns.get_loc('graphics_coprocessor')] = graphics[i]\n"
   ]
  },
  {
   "cell_type": "code",
   "execution_count": 163,
   "id": "264c863a",
   "metadata": {},
   "outputs": [
    {
     "name": "stderr",
     "output_type": "stream",
     "text": [
      "/var/folders/lr/cl6rr4bn3tsg_8trcd2p0d700000gn/T/ipykernel_87356/2604269924.py:2: SettingWithCopyWarning: \n",
      "A value is trying to be set on a copy of a slice from a DataFrame\n",
      "\n",
      "See the caveats in the documentation: https://pandas.pydata.org/pandas-docs/stable/user_guide/indexing.html#returning-a-view-versus-a-copy\n",
      "  df['graphics'].loc[df['graphics'] == 'Iris Xe Graphics'] = 'Integrated'\n",
      "/var/folders/lr/cl6rr4bn3tsg_8trcd2p0d700000gn/T/ipykernel_87356/2604269924.py:3: SettingWithCopyWarning: \n",
      "A value is trying to be set on a copy of a slice from a DataFrame\n",
      "\n",
      "See the caveats in the documentation: https://pandas.pydata.org/pandas-docs/stable/user_guide/indexing.html#returning-a-view-versus-a-copy\n",
      "  df['graphics'].loc[df['graphics'] == 'UHD Graphics'] = 'Integrated'\n",
      "/var/folders/lr/cl6rr4bn3tsg_8trcd2p0d700000gn/T/ipykernel_87356/2604269924.py:4: SettingWithCopyWarning: \n",
      "A value is trying to be set on a copy of a slice from a DataFrame\n",
      "\n",
      "See the caveats in the documentation: https://pandas.pydata.org/pandas-docs/stable/user_guide/indexing.html#returning-a-view-versus-a-copy\n",
      "  df['graphics'].loc[df['graphics'] == 'Radeon Graphics'] = 'Integrated'\n",
      "/var/folders/lr/cl6rr4bn3tsg_8trcd2p0d700000gn/T/ipykernel_87356/2604269924.py:5: SettingWithCopyWarning: \n",
      "A value is trying to be set on a copy of a slice from a DataFrame\n",
      "\n",
      "See the caveats in the documentation: https://pandas.pydata.org/pandas-docs/stable/user_guide/indexing.html#returning-a-view-versus-a-copy\n",
      "  df['graphics'].loc[df['graphics'] == 'Radeon 680M Graphics'] = 'Integrated'\n",
      "/var/folders/lr/cl6rr4bn3tsg_8trcd2p0d700000gn/T/ipykernel_87356/2604269924.py:6: SettingWithCopyWarning: \n",
      "A value is trying to be set on a copy of a slice from a DataFrame\n",
      "\n",
      "See the caveats in the documentation: https://pandas.pydata.org/pandas-docs/stable/user_guide/indexing.html#returning-a-view-versus-a-copy\n",
      "  df['graphics'].loc[df['graphics'] == 'Intel XE'] = 'Integrated'\n",
      "/var/folders/lr/cl6rr4bn3tsg_8trcd2p0d700000gn/T/ipykernel_87356/2604269924.py:7: SettingWithCopyWarning: \n",
      "A value is trying to be set on a copy of a slice from a DataFrame\n",
      "\n",
      "See the caveats in the documentation: https://pandas.pydata.org/pandas-docs/stable/user_guide/indexing.html#returning-a-view-versus-a-copy\n",
      "  df['graphics'].loc[df['graphics'] == 'Iris X Graphics'] = 'Integrated'\n",
      "/var/folders/lr/cl6rr4bn3tsg_8trcd2p0d700000gn/T/ipykernel_87356/2604269924.py:8: SettingWithCopyWarning: \n",
      "A value is trying to be set on a copy of a slice from a DataFrame\n",
      "\n",
      "See the caveats in the documentation: https://pandas.pydata.org/pandas-docs/stable/user_guide/indexing.html#returning-a-view-versus-a-copy\n",
      "  df['graphics'].loc[df['graphics'] == 'UHD Graphics 600'] = 'Integrated'\n",
      "/var/folders/lr/cl6rr4bn3tsg_8trcd2p0d700000gn/T/ipykernel_87356/2604269924.py:9: SettingWithCopyWarning: \n",
      "A value is trying to be set on a copy of a slice from a DataFrame\n",
      "\n",
      "See the caveats in the documentation: https://pandas.pydata.org/pandas-docs/stable/user_guide/indexing.html#returning-a-view-versus-a-copy\n",
      "  df['graphics'].loc[df['graphics'] == 'Intel UHD Graphics'] = 'Integrated'\n",
      "/var/folders/lr/cl6rr4bn3tsg_8trcd2p0d700000gn/T/ipykernel_87356/2604269924.py:10: SettingWithCopyWarning: \n",
      "A value is trying to be set on a copy of a slice from a DataFrame\n",
      "\n",
      "See the caveats in the documentation: https://pandas.pydata.org/pandas-docs/stable/user_guide/indexing.html#returning-a-view-versus-a-copy\n",
      "  df['graphics'].loc[df['graphics'] == 'Radeon 680M'] = 'Integrated'\n",
      "/var/folders/lr/cl6rr4bn3tsg_8trcd2p0d700000gn/T/ipykernel_87356/2604269924.py:11: SettingWithCopyWarning: \n",
      "A value is trying to be set on a copy of a slice from a DataFrame\n",
      "\n",
      "See the caveats in the documentation: https://pandas.pydata.org/pandas-docs/stable/user_guide/indexing.html#returning-a-view-versus-a-copy\n",
      "  df['graphics'].loc[df['graphics'] == 'Integrated intel IRIS Xe Plus GPU'] = 'Integrated'\n",
      "/var/folders/lr/cl6rr4bn3tsg_8trcd2p0d700000gn/T/ipykernel_87356/2604269924.py:12: SettingWithCopyWarning: \n",
      "A value is trying to be set on a copy of a slice from a DataFrame\n",
      "\n",
      "See the caveats in the documentation: https://pandas.pydata.org/pandas-docs/stable/user_guide/indexing.html#returning-a-view-versus-a-copy\n",
      "  df['graphics'].loc[df['graphics'] == 'Intel HD Graphics 5000, Integrated'] = 'Integrated'\n",
      "/var/folders/lr/cl6rr4bn3tsg_8trcd2p0d700000gn/T/ipykernel_87356/2604269924.py:13: SettingWithCopyWarning: \n",
      "A value is trying to be set on a copy of a slice from a DataFrame\n",
      "\n",
      "See the caveats in the documentation: https://pandas.pydata.org/pandas-docs/stable/user_guide/indexing.html#returning-a-view-versus-a-copy\n",
      "  df['graphics'].loc[df['graphics'] == 'Adreno 618'] = 'Integrated'\n",
      "/var/folders/lr/cl6rr4bn3tsg_8trcd2p0d700000gn/T/ipykernel_87356/2604269924.py:14: SettingWithCopyWarning: \n",
      "A value is trying to be set on a copy of a slice from a DataFrame\n",
      "\n",
      "See the caveats in the documentation: https://pandas.pydata.org/pandas-docs/stable/user_guide/indexing.html#returning-a-view-versus-a-copy\n",
      "  df['graphics'].loc[df['graphics'] == 'AMD Radeon Graphics'] = 'Integrated'\n",
      "/var/folders/lr/cl6rr4bn3tsg_8trcd2p0d700000gn/T/ipykernel_87356/2604269924.py:15: SettingWithCopyWarning: \n",
      "A value is trying to be set on a copy of a slice from a DataFrame\n",
      "\n",
      "See the caveats in the documentation: https://pandas.pydata.org/pandas-docs/stable/user_guide/indexing.html#returning-a-view-versus-a-copy\n",
      "  df['graphics'].loc[df['graphics'] == 'AMD Integrated Graphics'] = 'Integrated'\n",
      "/var/folders/lr/cl6rr4bn3tsg_8trcd2p0d700000gn/T/ipykernel_87356/2604269924.py:16: SettingWithCopyWarning: \n",
      "A value is trying to be set on a copy of a slice from a DataFrame\n",
      "\n",
      "See the caveats in the documentation: https://pandas.pydata.org/pandas-docs/stable/user_guide/indexing.html#returning-a-view-versus-a-copy\n",
      "  df['graphics'].loc[df['graphics'] == 'AMD Radeon'] = 'Integrated'\n",
      "/var/folders/lr/cl6rr4bn3tsg_8trcd2p0d700000gn/T/ipykernel_87356/2604269924.py:17: SettingWithCopyWarning: \n",
      "A value is trying to be set on a copy of a slice from a DataFrame\n",
      "\n",
      "See the caveats in the documentation: https://pandas.pydata.org/pandas-docs/stable/user_guide/indexing.html#returning-a-view-versus-a-copy\n",
      "  df['graphics'].loc[df['graphics'] == 'Integrated AMD Radeonâ„¢ Graphics'] = 'Integrated'\n",
      "/var/folders/lr/cl6rr4bn3tsg_8trcd2p0d700000gn/T/ipykernel_87356/2604269924.py:18: SettingWithCopyWarning: \n",
      "A value is trying to be set on a copy of a slice from a DataFrame\n",
      "\n",
      "See the caveats in the documentation: https://pandas.pydata.org/pandas-docs/stable/user_guide/indexing.html#returning-a-view-versus-a-copy\n",
      "  df['graphics'].loc[df['graphics'] == 'HD Graphics, Integrated'] = 'Integrated'\n",
      "/var/folders/lr/cl6rr4bn3tsg_8trcd2p0d700000gn/T/ipykernel_87356/2604269924.py:19: SettingWithCopyWarning: \n",
      "A value is trying to be set on a copy of a slice from a DataFrame\n",
      "\n",
      "See the caveats in the documentation: https://pandas.pydata.org/pandas-docs/stable/user_guide/indexing.html#returning-a-view-versus-a-copy\n",
      "  df['graphics'].loc[df['graphics'] == 'UHD Graphics 610'] = 'Integrated'\n",
      "/var/folders/lr/cl6rr4bn3tsg_8trcd2p0d700000gn/T/ipykernel_87356/2604269924.py:20: SettingWithCopyWarning: \n",
      "A value is trying to be set on a copy of a slice from a DataFrame\n",
      "\n",
      "See the caveats in the documentation: https://pandas.pydata.org/pandas-docs/stable/user_guide/indexing.html#returning-a-view-versus-a-copy\n",
      "  df['graphics'].loc[df['graphics'] == 'Intel Iris Xáµ‰'] = 'Integrated'\n",
      "/var/folders/lr/cl6rr4bn3tsg_8trcd2p0d700000gn/T/ipykernel_87356/2604269924.py:21: SettingWithCopyWarning: \n",
      "A value is trying to be set on a copy of a slice from a DataFrame\n",
      "\n",
      "See the caveats in the documentation: https://pandas.pydata.org/pandas-docs/stable/user_guide/indexing.html#returning-a-view-versus-a-copy\n",
      "  df['graphics'].loc[df['graphics'] == 'Iris Xe'] = 'Integrated'\n"
     ]
    }
   ],
   "source": [
    "# Group graphics under integrated.\n",
    "df['graphics'].loc[df['graphics'] == 'Iris Xe Graphics'] = 'Integrated'\n",
    "df['graphics'].loc[df['graphics'] == 'UHD Graphics'] = 'Integrated'\n",
    "df['graphics'].loc[df['graphics'] == 'Radeon Graphics'] = 'Integrated'\n",
    "df['graphics'].loc[df['graphics'] == 'Radeon 680M Graphics'] = 'Integrated'\n",
    "df['graphics'].loc[df['graphics'] == 'Intel XE'] = 'Integrated'\n",
    "df['graphics'].loc[df['graphics'] == 'Iris X Graphics'] = 'Integrated'\n",
    "df['graphics'].loc[df['graphics'] == 'UHD Graphics 600'] = 'Integrated'\n",
    "df['graphics'].loc[df['graphics'] == 'Intel UHD Graphics'] = 'Integrated'\n",
    "df['graphics'].loc[df['graphics'] == 'Radeon 680M'] = 'Integrated'\n",
    "df['graphics'].loc[df['graphics'] == 'Integrated intel IRIS Xe Plus GPU'] = 'Integrated'\n",
    "df['graphics'].loc[df['graphics'] == 'Intel HD Graphics 5000, Integrated'] = 'Integrated'\n",
    "df['graphics'].loc[df['graphics'] == 'Adreno 618'] = 'Integrated'\n",
    "df['graphics'].loc[df['graphics'] == 'AMD Radeon Graphics'] = 'Integrated'\n",
    "df['graphics'].loc[df['graphics'] == 'AMD Integrated Graphics'] = 'Integrated'\n",
    "df['graphics'].loc[df['graphics'] == 'AMD Radeon'] = 'Integrated'\n",
    "df['graphics'].loc[df['graphics'] == 'Integrated AMD Radeonâ„¢ Graphics'] = 'Integrated'\n",
    "df['graphics'].loc[df['graphics'] == 'HD Graphics, Integrated'] = 'Integrated'\n",
    "df['graphics'].loc[df['graphics'] == 'UHD Graphics 610'] = 'Integrated'\n",
    "df['graphics'].loc[df['graphics'] == 'Intel Iris Xáµ‰'] = 'Integrated'\n",
    "df['graphics'].loc[df['graphics'] == 'Iris Xe'] = 'Integrated'"
   ]
  },
  {
   "cell_type": "code",
   "execution_count": 164,
   "id": "72ff8488",
   "metadata": {},
   "outputs": [],
   "source": [
    "graphics = list(df[\"graphics\"])\n",
    "deds = [\"Integrated\", \"nan\"]\n",
    "for i in range(len(graphics)):\n",
    "    if str(graphics[i]) not in deds:\n",
    "        graphics[i] = \"Dedicated\"\n",
    "        \n",
    "df[\"graphics\"] = graphics"
   ]
  },
  {
   "cell_type": "code",
   "execution_count": 165,
   "id": "a4be750e",
   "metadata": {},
   "outputs": [
    {
     "data": {
      "text/plain": [
       "Integrated    1698\n",
       "Dedicated      745\n",
       "Name: graphics, dtype: int64"
      ]
     },
     "execution_count": 165,
     "metadata": {},
     "output_type": "execute_result"
    }
   ],
   "source": [
    "df.graphics.value_counts()"
   ]
  },
  {
   "cell_type": "code",
   "execution_count": 166,
   "id": "66055673",
   "metadata": {},
   "outputs": [],
   "source": [
    "# Change price to float instead of string, make sure the dataset stays readable by changing it to price in $\n",
    "df['price']= df['price'].str.replace(',', '')\n",
    "df['price'] = df['price'].str[1:].astype(float)"
   ]
  },
  {
   "cell_type": "code",
   "execution_count": 167,
   "id": "35992571",
   "metadata": {},
   "outputs": [
    {
     "name": "stderr",
     "output_type": "stream",
     "text": [
      "/var/folders/lr/cl6rr4bn3tsg_8trcd2p0d700000gn/T/ipykernel_87356/3861725341.py:3: SettingWithCopyWarning: \n",
      "A value is trying to be set on a copy of a slice from a DataFrame\n",
      "\n",
      "See the caveats in the documentation: https://pandas.pydata.org/pandas-docs/stable/user_guide/indexing.html#returning-a-view-versus-a-copy\n",
      "  df[\"ram\"].loc[df[\"ram\"] == 31.99] = 32\n"
     ]
    }
   ],
   "source": [
    "# Make RAM a float value\n",
    "df['ram'] = df['ram'].str[:-3].astype(float)\n",
    "df[\"ram\"].loc[df[\"ram\"] == 31.99] = 32"
   ]
  },
  {
   "cell_type": "code",
   "execution_count": 168,
   "id": "3c30cc94",
   "metadata": {},
   "outputs": [],
   "source": [
    "# Make screen size a float value\n",
    "df['screen_size'] = df['screen_size'].str[:-7].astype(float)"
   ]
  },
  {
   "cell_type": "code",
   "execution_count": 169,
   "id": "1f2c5908",
   "metadata": {},
   "outputs": [
    {
     "data": {
      "text/plain": [
       "512 GB     687\n",
       "256 GB     445\n",
       "1000 GB    310\n",
       "1 TB       290\n",
       "2000 GB    144\n",
       "2 TB       116\n",
       "128 GB     101\n",
       "64 GB       50\n",
       "32 GB       44\n",
       "4000 GB     44\n",
       "500 GB      31\n",
       "4 TB        24\n",
       "8000 GB     16\n",
       "320 GB       7\n",
       "16 GB        7\n",
       "6000 GB      3\n",
       "480 GB       2\n",
       "240 GB       2\n",
       "160 GB       2\n",
       "8 GB         2\n",
       "1024 GB      2\n",
       "8 TB         2\n",
       "512          1\n",
       "1.5 TB       1\n",
       "512 MB       1\n",
       "65 GB        1\n",
       "128 MB       1\n",
       "1512 GB      1\n",
       "64           1\n",
       "250 GB       1\n",
       "32 MB        1\n",
       "1256 GB      1\n",
       "64 MB        1\n",
       "120 GB       1\n",
       "2048 GB      1\n",
       "3 TB         1\n",
       "256          1\n",
       "300 GB       1\n",
       "Name: harddisk, dtype: int64"
      ]
     },
     "execution_count": 169,
     "metadata": {},
     "output_type": "execute_result"
    }
   ],
   "source": [
    "df[\"harddisk\"].value_counts()"
   ]
  },
  {
   "cell_type": "code",
   "execution_count": 170,
   "id": "8d7dae6b",
   "metadata": {},
   "outputs": [],
   "source": [
    "# Get rid of the harddisk values with no unit or MB as the unit. Since nowadays no laptops have harddisk capacities\n",
    "# as low as 64 MB, its fair to assume that this data is wrong, so we discard it.\n",
    "\n",
    "harddisk = list(df[\"harddisk\"])\n",
    "gb = [\"TB\", \"GB\"]\n",
    "for i in range(len(harddisk)):\n",
    "    if str(harddisk[i])[-2:] not in gb:\n",
    "        harddisk[i] = np.nan\n",
    "        \n",
    "df[\"harddisk\"] = harddisk"
   ]
  },
  {
   "cell_type": "code",
   "execution_count": 171,
   "id": "c7a9e5d7",
   "metadata": {},
   "outputs": [],
   "source": [
    "## Make harddisks into a float\n",
    "df['harddisk'] = df['harddisk'].str[:-3].astype(float)"
   ]
  },
  {
   "cell_type": "code",
   "execution_count": 172,
   "id": "e329e07b",
   "metadata": {},
   "outputs": [
    {
     "name": "stderr",
     "output_type": "stream",
     "text": [
      "/var/folders/lr/cl6rr4bn3tsg_8trcd2p0d700000gn/T/ipykernel_87356/2389428618.py:2: SettingWithCopyWarning: \n",
      "A value is trying to be set on a copy of a slice from a DataFrame\n",
      "\n",
      "See the caveats in the documentation: https://pandas.pydata.org/pandas-docs/stable/user_guide/indexing.html#returning-a-view-versus-a-copy\n",
      "  df['harddisk'].loc[df['harddisk']<10] = df['harddisk']*1000\n"
     ]
    }
   ],
   "source": [
    "# Make sure that the GB harddisks are divided by 1000 as the dataset will be in TBs.\n",
    "df['harddisk'].loc[df['harddisk']<10] = df['harddisk']*1000"
   ]
  },
  {
   "cell_type": "code",
   "execution_count": 173,
   "id": "c0ec8a38",
   "metadata": {
    "scrolled": false
   },
   "outputs": [
    {
     "data": {
      "text/plain": [
       "Dell                             1464\n",
       "Lenovo                            270\n",
       "HP                                220\n",
       "ASUS                              155\n",
       "acer                               88\n",
       "MSI                                80\n",
       "LG                                 37\n",
       "SAMSUNG                            23\n",
       "Apple                              18\n",
       "Microsoft                          14\n",
       "Alienware                          13\n",
       "Panasonic                          12\n",
       "Toughbook                          11\n",
       "Gigabyte                           11\n",
       "DELL                               10\n",
       "Acer                                9\n",
       "Razer                               6\n",
       "LENOVO                              6\n",
       "hp                                  5\n",
       "ROKC                                3\n",
       "Latitude                            3\n",
       "lenovo                              3\n",
       "Luqeeg                              3\n",
       "IVIEW                               2\n",
       "Quality Refurbished Computers       2\n",
       "SHOXLAB                             2\n",
       "Asus                                2\n",
       "Tocosy                              1\n",
       "Goldengulf                          1\n",
       "CTL                                 1\n",
       "AWOW                                1\n",
       "Best Notebooks                      1\n",
       "JTD                                 1\n",
       "Mac                                 1\n",
       "Mytrix                              1\n",
       "XPG                                 1\n",
       "GizPro                              1\n",
       "Elo                                 1\n",
       "MAINGEAR                            1\n",
       "Carlisle FoodService Products       1\n",
       "VAIO                                1\n",
       "LPT                                 1\n",
       "Corsair                             1\n",
       "asus                                1\n",
       "dell                                1\n",
       "XAMMUE                              1\n",
       "MICROTELLA                          1\n",
       "Name: brand, dtype: int64"
      ]
     },
     "execution_count": 173,
     "metadata": {},
     "output_type": "execute_result"
    }
   ],
   "source": [
    "df[\"brand\"].value_counts()"
   ]
  },
  {
   "cell_type": "code",
<<<<<<< HEAD
   "execution_count": 174,
   "id": "52f92035",
=======
   "execution_count": 285,
   "id": "0aa8ae11",
>>>>>>> 2a75d950c8cbd9edfe8e353d92890179b2a46a39
   "metadata": {},
   "outputs": [],
   "source": [
    "df[\"brand\"] = df[\"brand\"].str.lower()"
   ]
  },
  {
   "cell_type": "code",
   "execution_count": 175,
   "id": "1bd18fda",
   "metadata": {},
   "outputs": [
    {
     "name": "stderr",
     "output_type": "stream",
     "text": [
      "/var/folders/lr/cl6rr4bn3tsg_8trcd2p0d700000gn/T/ipykernel_87356/810506697.py:3: SettingWithCopyWarning: \n",
      "A value is trying to be set on a copy of a slice from a DataFrame\n",
      "\n",
      "See the caveats in the documentation: https://pandas.pydata.org/pandas-docs/stable/user_guide/indexing.html#returning-a-view-versus-a-copy\n",
      "  df[\"brand\"].loc[df[\"brand\"] == \"mac\"] = \"apple\"\n",
      "/var/folders/lr/cl6rr4bn3tsg_8trcd2p0d700000gn/T/ipykernel_87356/810506697.py:4: SettingWithCopyWarning: \n",
      "A value is trying to be set on a copy of a slice from a DataFrame\n",
      "\n",
      "See the caveats in the documentation: https://pandas.pydata.org/pandas-docs/stable/user_guide/indexing.html#returning-a-view-versus-a-copy\n",
      "  df[\"brand\"].loc[df[\"brand\"] == \"enovo\"] = \"lenovo\"\n"
     ]
    }
   ],
   "source": [
    "# Start fixing inconsistensies in brand names, such as LENOVO, lenovo, Lenovo and enovo being the same entries.\n",
    "\n",
    "df[\"brand\"].loc[df[\"brand\"] == \"mac\"] = \"apple\"\n",
    "df[\"brand\"].loc[df[\"brand\"] == \"enovo\"] = \"lenovo\""
   ]
  },
  {
   "cell_type": "code",
   "execution_count": 176,
   "id": "57cb1180",
   "metadata": {},
   "outputs": [
    {
     "data": {
      "text/plain": [
       "Black              934\n",
       "Silver             317\n",
       "Platinum Silver    123\n",
       "Gray                75\n",
       "Lunar Light         25\n",
       "                  ... \n",
       "Modern Gray          1\n",
       "Phantom Grey         1\n",
       "Platinum Titan       1\n",
       "Eclipse gray         1\n",
       "Iron Gray            1\n",
       "Name: color, Length: 186, dtype: int64"
      ]
     },
     "execution_count": 176,
     "metadata": {},
     "output_type": "execute_result"
    }
   ],
   "source": [
    "df[\"color\"].value_counts()"
   ]
  },
  {
   "cell_type": "code",
<<<<<<< HEAD
   "execution_count": 177,
   "id": "4c83dff2",
=======
   "execution_count": 288,
   "id": "fe1d101e",
>>>>>>> 2a75d950c8cbd9edfe8e353d92890179b2a46a39
   "metadata": {},
   "outputs": [
    {
     "name": "stdout",
     "output_type": "stream",
     "text": [
      "Grey, Gray, Platinum Silver\n",
      "Gray, Platinum Silver\n",
      "Gray, Platinum Silver\n",
      "Gray, Platinum Silver\n",
      "Gray, Platinum Silver\n",
      "Gray, Platinum Silver\n",
      "Gray, Platinum Silver\n",
      "Gray, Silver\n",
      "Gray, Platinum Silver\n",
      "Gray, Platinum Silver\n",
      "Gray, Silver\n",
      "Gray, Silver\n",
      "Gray, Silver\n",
      "Silver, Black\n",
      "Silver,Black\n",
      "Black,Silver,Grey\n",
      "Grey, Gray, Platinum Silver\n",
      "Grey, Gray, Platinum Silver\n",
      "Grey, Platinum Silver\n",
      "Grey, Gray, Platinum Silver\n",
      "Grey, Gray, Platinum Silver\n",
      "Grey, Platinum Silver\n",
      "Grey, Gray, Platinum Silver\n",
      "Gray, Grey, Platinum Silver\n",
      "Grey, Platinum Silver\n",
      "Grey, Platinum Silver\n",
      "Gray, Platinum Silver\n",
      "Gray, Platinum Silver\n",
      "Grey, Gray, Platinum Silver\n",
      "Gray, Platinum Silver\n",
      "Gray, Platinum Silver\n",
      "Grey, Platinum Silver\n",
      "Grey, Gray, Platinum Silver\n",
      "Grey, Platinum Silver\n"
     ]
    }
   ],
   "source": [
    "color = list(df[\"color\"])\n",
    "for i in color:\n",
    "    if \",\" in str(i):\n",
    "        print(i)"
   ]
  },
  {
   "cell_type": "code",
<<<<<<< HEAD
   "execution_count": 178,
   "id": "6ec1a607",
=======
   "execution_count": 289,
   "id": "6b4e482e",
>>>>>>> 2a75d950c8cbd9edfe8e353d92890179b2a46a39
   "metadata": {},
   "outputs": [
    {
     "name": "stderr",
     "output_type": "stream",
     "text": [
      "/var/folders/lr/cl6rr4bn3tsg_8trcd2p0d700000gn/T/ipykernel_87356/269740802.py:1: SettingWithCopyWarning: \n",
      "A value is trying to be set on a copy of a slice from a DataFrame\n",
      "\n",
      "See the caveats in the documentation: https://pandas.pydata.org/pandas-docs/stable/user_guide/indexing.html#returning-a-view-versus-a-copy\n",
      "  df[\"color\"].loc[df[\"color\"] == \"Grey, Gray, Platinum Silver\"] = \"Gray, Platinum Silver\"\n",
      "/var/folders/lr/cl6rr4bn3tsg_8trcd2p0d700000gn/T/ipykernel_87356/269740802.py:2: SettingWithCopyWarning: \n",
      "A value is trying to be set on a copy of a slice from a DataFrame\n",
      "\n",
      "See the caveats in the documentation: https://pandas.pydata.org/pandas-docs/stable/user_guide/indexing.html#returning-a-view-versus-a-copy\n",
      "  df[\"color\"].loc[df[\"color\"] == \"Gray, Silver\"] = \"Gray, Platinum Silver\"\n",
      "/var/folders/lr/cl6rr4bn3tsg_8trcd2p0d700000gn/T/ipykernel_87356/269740802.py:3: SettingWithCopyWarning: \n",
      "A value is trying to be set on a copy of a slice from a DataFrame\n",
      "\n",
      "See the caveats in the documentation: https://pandas.pydata.org/pandas-docs/stable/user_guide/indexing.html#returning-a-view-versus-a-copy\n",
      "  df[\"color\"].loc[df[\"color\"] == \"Gray, Grey, Platinum Silver\"] = \"Gray, Platinum Silver\"\n",
      "/var/folders/lr/cl6rr4bn3tsg_8trcd2p0d700000gn/T/ipykernel_87356/269740802.py:4: SettingWithCopyWarning: \n",
      "A value is trying to be set on a copy of a slice from a DataFrame\n",
      "\n",
      "See the caveats in the documentation: https://pandas.pydata.org/pandas-docs/stable/user_guide/indexing.html#returning-a-view-versus-a-copy\n",
      "  df[\"color\"].loc[df[\"color\"] == \"Silver,Black\"] = \"Silver, Black\"\n",
      "/var/folders/lr/cl6rr4bn3tsg_8trcd2p0d700000gn/T/ipykernel_87356/269740802.py:5: SettingWithCopyWarning: \n",
      "A value is trying to be set on a copy of a slice from a DataFrame\n",
      "\n",
      "See the caveats in the documentation: https://pandas.pydata.org/pandas-docs/stable/user_guide/indexing.html#returning-a-view-versus-a-copy\n",
      "  df[\"color\"].loc[df[\"color\"] == \"Black,Silver,Grey\"] = \"Silver, Black, Gray\"\n",
      "/var/folders/lr/cl6rr4bn3tsg_8trcd2p0d700000gn/T/ipykernel_87356/269740802.py:6: SettingWithCopyWarning: \n",
      "A value is trying to be set on a copy of a slice from a DataFrame\n",
      "\n",
      "See the caveats in the documentation: https://pandas.pydata.org/pandas-docs/stable/user_guide/indexing.html#returning-a-view-versus-a-copy\n",
      "  df[\"color\"].loc[df[\"color\"] == \"Grey, Platinum Silver\"] = \"Gray, Platinum Silver\"\n"
     ]
    }
   ],
   "source": [
    "df[\"color\"].loc[df[\"color\"] == \"Grey, Gray, Platinum Silver\"] = \"Gray, Platinum Silver\"\n",
    "df[\"color\"].loc[df[\"color\"] == \"Gray, Silver\"] = \"Gray, Platinum Silver\"\n",
    "df[\"color\"].loc[df[\"color\"] == \"Gray, Grey, Platinum Silver\"] = \"Gray, Platinum Silver\"\n",
    "df[\"color\"].loc[df[\"color\"] == \"Silver,Black\"] = \"Silver, Black\"\n",
    "df[\"color\"].loc[df[\"color\"] == \"Black,Silver,Grey\"] = \"Silver, Black, Gray\"\n",
    "df[\"color\"].loc[df[\"color\"] == \"Grey, Platinum Silver\"] = \"Gray, Platinum Silver\"\n"
   ]
  },
  {
   "cell_type": "code",
   "execution_count": 179,
   "id": "e4d7e9d1",
   "metadata": {},
   "outputs": [],
   "source": [
    "# fix color by making big categories Black, Silver, Blue, Gray from the existing large quantity data and grouping the very\n",
    "# minimal other colors under \"other\". I took my minimum frequency as 10, and changed everything to other like this since i\n",
    "# manually checked to make sure there were no values that occur more than 30 times that would be turned into \"other\" if i\n",
    "# used this method\n",
    "df[\"color\"] = df[\"color\"].str.lower()\n",
    "color = list(df[\"color\"])\n",
    "\n",
    "for i in range(len(color)):\n",
    "    if \",\" not in str(color[i]):\n",
    "        x = str(color[i]).split()\n",
    "        if \"black\" in x:\n",
    "            color[i] = \"black\"\n",
    "        elif \"gray\" in x or \"grey\" in x:\n",
    "            color[i] = \"gray\"\n",
    "        elif \"gold\" in x:\n",
    "            color[i] = \"gold\"\n",
    "        elif \"white\" in x:\n",
    "            color[i] = \"white\"\n",
    "        elif \"blue\" in x:\n",
    "            color[i] = \"blue\"\n",
    "        elif \"platinum\" in x or \"silver\" in x:\n",
    "            color[i] = \"platinum silver\"\n",
    "        elif \"green\" in x:\n",
    "            color[i] = \"green\"\n",
    "        elif \"nan\" in x:\n",
    "            pass\n",
    "        else:\n",
    "            color[i] = \"other\"\n",
    "        \n",
    "        \n",
    "df[\"color\"] = color"
   ]
  },
  {
   "cell_type": "code",
<<<<<<< HEAD
   "execution_count": 180,
   "id": "f990c88f",
=======
   "execution_count": 291,
   "id": "fb3d2850",
>>>>>>> 2a75d950c8cbd9edfe8e353d92890179b2a46a39
   "metadata": {},
   "outputs": [
    {
     "data": {
      "text/plain": [
       "brand                   2492\n",
       "model                   2492\n",
       "screen_size             2483\n",
       "color                   2025\n",
       "harddisk                2340\n",
       "cpu                     2449\n",
       "ram                     2441\n",
       "OS                      2484\n",
       "special_features        1671\n",
       "graphics                2443\n",
       "graphics_coprocessor    1280\n",
       "cpu_speed                270\n",
       "rating                   967\n",
       "price                   2492\n",
       "dtype: int64"
      ]
     },
     "execution_count": 180,
     "metadata": {},
     "output_type": "execute_result"
    }
   ],
   "source": [
    "df.count()"
   ]
  },
  {
   "cell_type": "code",
   "execution_count": 181,
   "id": "944d8805",
   "metadata": {},
   "outputs": [
    {
     "data": {
      "text/plain": [
       "Windows 11 Pro                                                              617\n",
       "Windows 11 Home                                                             550\n",
       "Windows 10 Pro                                                              425\n",
       "Windows 10 Home                                                             414\n",
       "Windows 10                                                                  125\n",
       "Chrome OS                                                                   110\n",
       "Windows 11                                                                  108\n",
       "Windows 7 Professional                                                       15\n",
       "Windows 11 S                                                                 13\n",
       "Mac OS                                                                       12\n",
       "Windows 7                                                                    11\n",
       "Windows 10 S                                                                 11\n",
       "Windows 10 Pro 64 Bit-Multi-Language Support English/French/Spanish.          9\n",
       "Windows 10 Pro 64 Bit Multi-Language Support English/French/Spanish           9\n",
       "Windows 8                                                                     8\n",
       "macOS 12 Monterey                                                             6\n",
       "Windows                                                                       5\n",
       "Windows 10 Pro (English/French/Spanish)                                       3\n",
       "Windows 10 Home 64                                                            3\n",
       "Win 10 Multi-language /Free upgrade to Win 11                                 2\n",
       "Windows 10 Pro 64-Bit                                                         2\n",
       "Windows 11 Home S                                                             2\n",
       "Windows 8.1                                                                   2\n",
       "No                                                                            1\n",
       "Windows 10 Pro 64 Bit-Multi-Language Supports English/Spanish/French          1\n",
       "Mac OS X 10.0 Cheetah                                                         1\n",
       "Windows 7 Pro + 10 Pro                                                        1\n",
       "Windows 10 DG Windows 7 Pro 64                                                1\n",
       "Win 11 Multi-Home                                                             1\n",
       "Windows 8 Pro                                                                 1\n",
       "HP ThinPro                                                                    1\n",
       "Windows 10 Professional 64-bit                                                1\n",
       "Windows 11 Home in S Mode                                                     1\n",
       "Win 10 Pro 64 Bit Multi-Language Support English/French/Spanish(Renewed)      1\n",
       "Windows 10 Pro 64-bit                                                         1\n",
       "Win 10 Pro 64 Bit Multi-Language Support English/French/Spanish               1\n",
       "Microsoft Windows 10 Professional (64bit)                                     1\n",
       "Windows 10 64 Bit-Multi-Language Supports English/Spanish/French              1\n",
       "Unknown                                                                       1\n",
       "Windows Pro                                                                   1\n",
       "macOS 10.12 Sierra                                                            1\n",
       "Linux                                                                         1\n",
       "Windows 10 Pro (64-Bit)                                                       1\n",
       "Win 10 Pro / Free upgrade to Win 11                                           1\n",
       "Windows 7 Home Premium                                                        1\n",
       "Name: OS, dtype: int64"
      ]
     },
     "execution_count": 181,
     "metadata": {},
     "output_type": "execute_result"
    }
   ],
   "source": [
    "df.OS.value_counts()"
   ]
  },
  {
   "cell_type": "code",
   "execution_count": 182,
   "id": "e288221a",
   "metadata": {},
   "outputs": [],
   "source": [
    "os = list(df[\"OS\"])\n",
    "window_versions = [\"7\", \"8\", \"10\", \"11\"]\n",
    "\n",
    "for i in range(len(os)):\n",
    "    x = str(os[i]).split()\n",
    "    if x[0] == \"Windows\" or x[0] == \"Win\":\n",
    "        version = next((word for word in x[1:] if word in window_versions), None)\n",
    "        edition = next((word for word in x[1:] if word.lower() in [\"pro\", \"home\"]), None)\n",
    "        \n",
    "        if version:\n",
    "            os[i] = f\"Windows {version} {edition}\" if edition else f\"Windows {version}\"\n",
    "    elif x[0].lower() == \"macos\" or x[0].lower() == \"mac\":\n",
    "        os[i] = \"Mac OS\"\n",
    "    \n",
    "df[\"OS\"] = os\n"
   ]
  },
  {
   "cell_type": "code",
   "execution_count": 183,
   "id": "fbe704dd",
   "metadata": {},
   "outputs": [
    {
     "data": {
      "text/plain": [
       "Windows 11 Pro                               617\n",
       "Windows 11 Home                              553\n",
       "Windows 10 Pro                               455\n",
       "Windows 10 Home                              417\n",
       "Windows 10                                   140\n",
       "Windows 11                                   122\n",
       "Chrome OS                                    110\n",
       "Windows 7                                     26\n",
       "Mac OS                                        20\n",
       "Windows 8                                      8\n",
       "Windows                                        5\n",
       "Windows 8.1                                    2\n",
       "Windows 7 Pro                                  1\n",
       "Windows 8 Pro                                  1\n",
       "HP ThinPro                                     1\n",
       "Microsoft Windows 10 Professional (64bit)      1\n",
       "Unknown                                        1\n",
       "Linux                                          1\n",
       "No                                             1\n",
       "Windows Pro                                    1\n",
       "Windows 7 Home                                 1\n",
       "Name: OS, dtype: int64"
      ]
     },
     "execution_count": 183,
     "metadata": {},
     "output_type": "execute_result"
    }
   ],
   "source": [
    "df.OS.value_counts()"
   ]
  },
  {
   "cell_type": "code",
   "execution_count": 184,
   "id": "a08d8f7e",
   "metadata": {},
   "outputs": [
    {
     "name": "stderr",
     "output_type": "stream",
     "text": [
      "/var/folders/lr/cl6rr4bn3tsg_8trcd2p0d700000gn/T/ipykernel_87356/1497884866.py:1: SettingWithCopyWarning: \n",
      "A value is trying to be set on a copy of a slice from a DataFrame\n",
      "\n",
      "See the caveats in the documentation: https://pandas.pydata.org/pandas-docs/stable/user_guide/indexing.html#returning-a-view-versus-a-copy\n",
      "  df[\"OS\"].loc[df[\"OS\"] == \"Microsoft Windows 10 Professional (64bit)\"] = \"Windows 10 Pro\"\n",
      "/var/folders/lr/cl6rr4bn3tsg_8trcd2p0d700000gn/T/ipykernel_87356/1497884866.py:2: SettingWithCopyWarning: \n",
      "A value is trying to be set on a copy of a slice from a DataFrame\n",
      "\n",
      "See the caveats in the documentation: https://pandas.pydata.org/pandas-docs/stable/user_guide/indexing.html#returning-a-view-versus-a-copy\n",
      "  df[\"OS\"].loc[df[\"OS\"] == \"Windows 8.1\"] = \"Windows 8\"\n",
      "/var/folders/lr/cl6rr4bn3tsg_8trcd2p0d700000gn/T/ipykernel_87356/1497884866.py:3: SettingWithCopyWarning: \n",
      "A value is trying to be set on a copy of a slice from a DataFrame\n",
      "\n",
      "See the caveats in the documentation: https://pandas.pydata.org/pandas-docs/stable/user_guide/indexing.html#returning-a-view-versus-a-copy\n",
      "  df[\"OS\"].loc[df[\"OS\"] == \"No\"] = np.nan\n",
      "/var/folders/lr/cl6rr4bn3tsg_8trcd2p0d700000gn/T/ipykernel_87356/1497884866.py:4: SettingWithCopyWarning: \n",
      "A value is trying to be set on a copy of a slice from a DataFrame\n",
      "\n",
      "See the caveats in the documentation: https://pandas.pydata.org/pandas-docs/stable/user_guide/indexing.html#returning-a-view-versus-a-copy\n",
      "  df[\"OS\"].loc[df[\"OS\"] == \"Unknown\"] = np.nan\n"
     ]
    }
   ],
   "source": [
    "df[\"OS\"].loc[df[\"OS\"] == \"Microsoft Windows 10 Professional (64bit)\"] = \"Windows 10 Pro\"\n",
    "df[\"OS\"].loc[df[\"OS\"] == \"Windows 8.1\"] = \"Windows 8\"\n",
    "df[\"OS\"].loc[df[\"OS\"] == \"No\"] = np.nan\n",
    "df[\"OS\"].loc[df[\"OS\"] == \"Unknown\"] = np.nan\n"
   ]
  },
  {
   "cell_type": "code",
<<<<<<< HEAD
   "execution_count": 185,
   "id": "12f10823",
=======
   "execution_count": 296,
   "id": "81c9adef",
>>>>>>> 2a75d950c8cbd9edfe8e353d92890179b2a46a39
   "metadata": {},
   "outputs": [
    {
     "data": {
      "text/plain": [
       "Windows 11 Pro     617\n",
       "Windows 11 Home    553\n",
       "Windows 10 Pro     456\n",
       "Windows 10 Home    417\n",
       "Windows 10         140\n",
       "Windows 11         122\n",
       "Chrome OS          110\n",
       "Windows 7           26\n",
       "Mac OS              20\n",
       "Windows 8           10\n",
       "Windows              5\n",
       "Windows Pro          1\n",
       "Linux                1\n",
       "HP ThinPro           1\n",
       "Windows 8 Pro        1\n",
       "Windows 7 Pro        1\n",
       "Windows 7 Home       1\n",
       "Name: OS, dtype: int64"
      ]
     },
     "execution_count": 185,
     "metadata": {},
     "output_type": "execute_result"
    }
   ],
   "source": [
    "df[\"OS\"].value_counts()"
   ]
  },
  {
   "cell_type": "code",
<<<<<<< HEAD
   "execution_count": 186,
   "id": "a379e012",
=======
   "execution_count": 306,
   "id": "45a0980b",
>>>>>>> 2a75d950c8cbd9edfe8e353d92890179b2a46a39
   "metadata": {},
   "outputs": [
    {
     "name": "stdout",
     "output_type": "stream",
     "text": [
      "['brand', 'model', 'screen_size', 'color', 'harddisk', 'cpu', 'ram', 'OS', 'special_features', 'graphics', 'graphics_coprocessor', 'cpu_speed', 'rating', 'price']\n",
      "\n",
      " new column names: \n",
      "\n",
      " ['brand', 'model', 'screen_size(inch)', 'color', 'harddisk(GB)', 'cpu', 'ram(GB)', 'OS', 'special_features', 'graphics', 'graphics_coprocessor', 'cpu_speed', 'rating', 'price($)']\n"
     ]
    }
   ],
   "source": [
    "print(df.columns.tolist())\n",
    "\n",
    "df.columns = ['brand', 'model', 'screen_size(inch)', 'color', 'harddisk(GB)', 'cpu', 'ram(GB)', 'OS', 'special_features', \n",
    "'graphics', 'graphics_coprocessor', 'cpu_speed', 'rating', 'price($)']\n",
    "\n",
    "print(\"\\n new column names: \\n\\n\", df.columns.tolist())"
   ]
  },
  {
   "cell_type": "code",
<<<<<<< HEAD
   "execution_count": 187,
   "id": "ea87c4a9",
=======
   "execution_count": 310,
   "id": "f098d5db",
>>>>>>> 2a75d950c8cbd9edfe8e353d92890179b2a46a39
   "metadata": {},
   "outputs": [
    {
     "data": {
      "text/plain": [
<<<<<<< HEAD
       "Core i7            774\n",
       "Core i5            553\n",
       "Core i7 Family     166\n",
       "Core i9            136\n",
       "Intel Core i7       83\n",
       "                  ... \n",
       "Core i5-4200M        1\n",
       "Pentium N5000        1\n",
       "Core i5-4210U        1\n",
       "Atom Z8350           1\n",
       "Core i5 2.3 GHz      1\n",
       "Name: cpu, Length: 137, dtype: int64"
      ]
     },
     "execution_count": 187,
=======
       "Intel Core i7          1223\n",
       "Intel Core i5          1176\n",
       "Intel Core i9           568\n",
       "Pentium                 191\n",
       "Pentium N5000           172\n",
       "                       ... \n",
       "MediaTek Helio P60T       1\n",
       "Core i5 4310U             1\n",
       "Ryzen 3 3350U             1\n",
       "Core i5-5200U             1\n",
       "Core i5 2.3 GHz           1\n",
       "Name: cpu, Length: 138, dtype: int64"
      ]
     },
     "execution_count": 310,
>>>>>>> 2a75d950c8cbd9edfe8e353d92890179b2a46a39
     "metadata": {},
     "output_type": "execute_result"
    }
   ],
   "source": [
    "df.cpu.value_counts()"
   ]
  },
  {
   "cell_type": "code",
<<<<<<< HEAD
   "execution_count": 188,
   "id": "c5d3c587",
   "metadata": {},
   "outputs": [
    {
     "data": {
      "text/html": [
       "<div>\n",
       "<style scoped>\n",
       "    .dataframe tbody tr th:only-of-type {\n",
       "        vertical-align: middle;\n",
       "    }\n",
       "\n",
       "    .dataframe tbody tr th {\n",
       "        vertical-align: top;\n",
       "    }\n",
       "\n",
       "    .dataframe thead th {\n",
       "        text-align: right;\n",
       "    }\n",
       "</style>\n",
       "<table border=\"1\" class=\"dataframe\">\n",
       "  <thead>\n",
       "    <tr style=\"text-align: right;\">\n",
       "      <th></th>\n",
       "      <th>brand</th>\n",
       "      <th>model</th>\n",
       "      <th>screen_size(inch)</th>\n",
       "      <th>color</th>\n",
       "      <th>harddisk(GB)</th>\n",
       "      <th>cpu</th>\n",
       "      <th>ram(GB)</th>\n",
       "      <th>OS</th>\n",
       "      <th>special_features</th>\n",
       "      <th>graphics</th>\n",
       "      <th>graphics_coprocessor</th>\n",
       "      <th>cpu_speed</th>\n",
       "      <th>rating</th>\n",
       "      <th>price($)</th>\n",
       "    </tr>\n",
       "  </thead>\n",
       "  <tbody>\n",
       "    <tr>\n",
       "      <th>0</th>\n",
       "      <td>hp</td>\n",
       "      <td>EliteBook 840</td>\n",
       "      <td>14.0</td>\n",
       "      <td>platinum silver</td>\n",
       "      <td>256.0</td>\n",
       "      <td>Core i5 6200U</td>\n",
       "      <td>16.0</td>\n",
       "      <td>Windows 10 Pro</td>\n",
       "      <td>Anti Glare Coating</td>\n",
       "      <td>Integrated</td>\n",
       "      <td>NaN</td>\n",
       "      <td>NaN</td>\n",
       "      <td>4.0</td>\n",
       "      <td>1000.00</td>\n",
       "    </tr>\n",
       "    <tr>\n",
       "      <th>1</th>\n",
       "      <td>dell</td>\n",
       "      <td>Inspiron 15 3530</td>\n",
       "      <td>15.6</td>\n",
       "      <td>black</td>\n",
       "      <td>2000.0</td>\n",
       "      <td>Core i7 Family</td>\n",
       "      <td>64.0</td>\n",
       "      <td>Windows 11 Home</td>\n",
       "      <td>NaN</td>\n",
       "      <td>Integrated</td>\n",
       "      <td>Intel Iris Xe Graphics</td>\n",
       "      <td>NaN</td>\n",
       "      <td>4.2</td>\n",
       "      <td>1000.00</td>\n",
       "    </tr>\n",
       "    <tr>\n",
       "      <th>2</th>\n",
       "      <td>dell</td>\n",
       "      <td>Vostro 3510 Laptop</td>\n",
       "      <td>15.6</td>\n",
       "      <td>black</td>\n",
       "      <td>1000.0</td>\n",
       "      <td>Core i7</td>\n",
       "      <td>32.0</td>\n",
       "      <td>Windows 10 Home</td>\n",
       "      <td>Wifi &amp; Bluetooth</td>\n",
       "      <td>Integrated</td>\n",
       "      <td>NaN</td>\n",
       "      <td>NaN</td>\n",
       "      <td>NaN</td>\n",
       "      <td>1000.99</td>\n",
       "    </tr>\n",
       "    <tr>\n",
       "      <th>3</th>\n",
       "      <td>dell</td>\n",
       "      <td>Inspiron 7420 2-in-1</td>\n",
       "      <td>14.0</td>\n",
       "      <td>gray, platinum silver</td>\n",
       "      <td>2000.0</td>\n",
       "      <td>Core i5</td>\n",
       "      <td>64.0</td>\n",
       "      <td>Windows 11 Pro</td>\n",
       "      <td>NaN</td>\n",
       "      <td>Integrated</td>\n",
       "      <td>Intel Integrated Graphics</td>\n",
       "      <td>NaN</td>\n",
       "      <td>NaN</td>\n",
       "      <td>1001.11</td>\n",
       "    </tr>\n",
       "    <tr>\n",
       "      <th>4</th>\n",
       "      <td>msi</td>\n",
       "      <td>Prestige 14Evo A11MO-217</td>\n",
       "      <td>14.0</td>\n",
       "      <td>other</td>\n",
       "      <td>NaN</td>\n",
       "      <td>Core i7</td>\n",
       "      <td>32.0</td>\n",
       "      <td>Windows 10</td>\n",
       "      <td>Anti-glare,Thin Bezel</td>\n",
       "      <td>Integrated</td>\n",
       "      <td>Intel Iris Xe Graphics</td>\n",
       "      <td>NaN</td>\n",
       "      <td>4.2</td>\n",
       "      <td>1001.18</td>\n",
       "    </tr>\n",
       "  </tbody>\n",
       "</table>\n",
       "</div>"
      ],
      "text/plain": [
       "  brand                     model  screen_size(inch)                  color  \\\n",
       "0    hp             EliteBook 840               14.0        platinum silver   \n",
       "1  dell          Inspiron 15 3530               15.6                  black   \n",
       "2  dell        Vostro 3510 Laptop               15.6                  black   \n",
       "3  dell      Inspiron 7420 2-in-1               14.0  gray, platinum silver   \n",
       "4   msi  Prestige 14Evo A11MO-217               14.0                  other   \n",
       "\n",
       "   harddisk(GB)             cpu  ram(GB)               OS  \\\n",
       "0         256.0   Core i5 6200U     16.0   Windows 10 Pro   \n",
       "1        2000.0  Core i7 Family     64.0  Windows 11 Home   \n",
       "2        1000.0         Core i7     32.0  Windows 10 Home   \n",
       "3        2000.0         Core i5     64.0   Windows 11 Pro   \n",
       "4           NaN         Core i7     32.0       Windows 10   \n",
       "\n",
       "        special_features    graphics       graphics_coprocessor cpu_speed  \\\n",
       "0     Anti Glare Coating  Integrated                        NaN       NaN   \n",
       "1                    NaN  Integrated     Intel Iris Xe Graphics       NaN   \n",
       "2       Wifi & Bluetooth  Integrated                        NaN       NaN   \n",
       "3                    NaN  Integrated  Intel Integrated Graphics       NaN   \n",
       "4  Anti-glare,Thin Bezel  Integrated     Intel Iris Xe Graphics       NaN   \n",
       "\n",
       "   rating  price($)  \n",
       "0     4.0   1000.00  \n",
       "1     4.2   1000.00  \n",
       "2     NaN   1000.99  \n",
       "3     NaN   1001.11  \n",
       "4     4.2   1001.18  "
      ]
     },
     "execution_count": 188,
     "metadata": {},
     "output_type": "execute_result"
    }
   ],
   "source": [
    "df.head()"
=======
   "execution_count": 309,
   "id": "284a6e73",
   "metadata": {},
   "outputs": [
    {
     "name": "stderr",
     "output_type": "stream",
     "text": [
      "C:\\Users\\Ada\\AppData\\Local\\Temp\\ipykernel_15720\\1360842125.py:1: SettingWithCopyWarning: \n",
      "A value is trying to be set on a copy of a slice from a DataFrame\n",
      "\n",
      "See the caveats in the documentation: https://pandas.pydata.org/pandas-docs/stable/user_guide/indexing.html#returning-a-view-versus-a-copy\n",
      "  df[\"cpu\"].loc[df[\"cpu\"] == \"Core i7\"] = \"Intel Core i7\"\n",
      "C:\\Users\\Ada\\AppData\\Local\\Temp\\ipykernel_15720\\1360842125.py:2: SettingWithCopyWarning: \n",
      "A value is trying to be set on a copy of a slice from a DataFrame\n",
      "\n",
      "See the caveats in the documentation: https://pandas.pydata.org/pandas-docs/stable/user_guide/indexing.html#returning-a-view-versus-a-copy\n",
      "  df[\"cpu\"].loc[df[\"cpu\"] == \"Core i5\"] = \"Intel Core i5\"\n",
      "C:\\Users\\Ada\\AppData\\Local\\Temp\\ipykernel_15720\\1360842125.py:3: SettingWithCopyWarning: \n",
      "A value is trying to be set on a copy of a slice from a DataFrame\n",
      "\n",
      "See the caveats in the documentation: https://pandas.pydata.org/pandas-docs/stable/user_guide/indexing.html#returning-a-view-versus-a-copy\n",
      "  df[\"cpu\"].loc[df[\"cpu\"] == \"Core i9\"] = \"Intel Core i9\"\n"
     ]
    }
   ],
   "source": [
    "df[\"cpu\"].loc[df[\"cpu\"] == \"Core i7\"] = \"Intel Core i7\"\n",
    "df[\"cpu\"].loc[df[\"cpu\"] == \"Core i5\"] = \"Intel Core i5\"\n",
    "df[\"cpu\"].loc[df[\"cpu\"] == \"Core i9\"] = \"Intel Core i9\""
>>>>>>> 2a75d950c8cbd9edfe8e353d92890179b2a46a39
   ]
  },
  {
   "cell_type": "code",
<<<<<<< HEAD
   "execution_count": 191,
   "id": "a481cf1b",
   "metadata": {},
   "outputs": [
    {
     "data": {
      "text/plain": [
       "Core i7            774\n",
       "Core i5            553\n",
       "Core i7 Family     166\n",
       "Core i9            136\n",
       "Intel Core i7       83\n",
       "                  ... \n",
       "Core i5-4200M        1\n",
       "Pentium N5000        1\n",
       "Core i5-4210U        1\n",
       "Atom Z8350           1\n",
       "Core i5 2.3 GHz      1\n",
       "Name: cpu, Length: 137, dtype: int64"
      ]
     },
     "execution_count": 191,
     "metadata": {},
     "output_type": "execute_result"
    }
   ],
   "source": [
    "df.cpu.value_counts()"
   ]
  },
  {
   "cell_type": "code",
   "execution_count": 192,
   "id": "dd3e2e98",
   "metadata": {},
   "outputs": [
    {
     "data": {
      "text/plain": [
       "Windows 11 Pro     617\n",
       "Windows 11 Home    553\n",
       "Windows 10 Pro     456\n",
       "Windows 10 Home    417\n",
       "Windows 10         140\n",
       "Windows 11         122\n",
       "Chrome OS          110\n",
       "Windows 7           26\n",
       "Mac OS              20\n",
       "Windows 8           10\n",
       "Windows              5\n",
       "Windows Pro          1\n",
       "Linux                1\n",
       "HP ThinPro           1\n",
       "Windows 8 Pro        1\n",
       "Windows 7 Pro        1\n",
       "Windows 7 Home       1\n",
       "Name: OS, dtype: int64"
      ]
     },
     "execution_count": 192,
     "metadata": {},
     "output_type": "execute_result"
    }
   ],
   "source": [
    "df.OS.value_counts()"
   ]
  },
  {
   "cell_type": "code",
   "execution_count": 193,
   "id": "040d6cc7",
   "metadata": {},
   "outputs": [
    {
     "data": {
      "text/plain": [
       "Wifi & Bluetooth                                                            750\n",
       "Anti-glare Screen                                                           155\n",
       "Anti-glare                                                                   86\n",
       "Backlit Keyboard                                                             85\n",
       "Anti Glare Coating                                                           31\n",
       "                                                                           ... \n",
       "Fingerprint Reader, Backlit Keyboard, Anti Glare Coating, Numeric Keypad      1\n",
       "Backlit Kb,Fingerprint,Pen                                                    1\n",
       "Backlight Keyboard                                                            1\n",
       "Backlit Kb,Bezel,Fingerprint                                                  1\n",
       "Backlit Keyboard,Stylus Pen                                                   1\n",
       "Name: special_features, Length: 184, dtype: int64"
      ]
     },
     "execution_count": 193,
     "metadata": {},
     "output_type": "execute_result"
    }
   ],
   "source": [
    "df.special_features.value_counts()"
   ]
  },
  {
   "cell_type": "code",
   "execution_count": 227,
   "id": "96a28948",
   "metadata": {
    "scrolled": false
   },
   "outputs": [],
   "source": [
    "special = list(df.special_features)\n",
    "for i in special:\n",
    "    x = str(i).split(',')\n",
    "    for j in range(len(x)):\n",
    "        if \"Anti\" in x[j]:\n",
    "            x[j] = \"Anti-Glare Screen\"\n",
    "        elif \"Stylus\" in x[j] or \"Pen\" in x[j]:\n",
    "            x[j] = \"Stylus\"\n",
    "        elif \"Backlit\" in x[j]:\n",
    "            x[j] = \"Backlit Keyboard\"\n",
    "df.special_features = special"
   ]
  },
  {
   "cell_type": "code",
   "execution_count": 228,
   "id": "ee4ac0e1",
=======
   "execution_count": 312,
   "id": "21783bd5",
>>>>>>> 2a75d950c8cbd9edfe8e353d92890179b2a46a39
   "metadata": {},
   "outputs": [
    {
     "name": "stdout",
     "output_type": "stream",
     "text": [
<<<<<<< HEAD
      "['Anti Glare Coating', 'nan', 'Wifi & Bluetooth', 'Anti-glare', 'Thin Bezel', 'Anti-glare Screen', 'Backlit Keyboard', 'Fingerprint Reader', 'HD Audio', ' Backlit Keyboard', ' Anti Glare Coating', 'Anti Glare', 'Information Not Available', ' Numeric Keypad', 'Fingerprint reader', ' HD Audio', ' Memory Card Slot', 'Fingerprint', 'Stylus', ' Support Stylus', 'Security Slot', 'Backlit Kb', 'Bezel', 'Full Hd Anti-glare', ' Fingerprint Reader', 'Spill-resistant', ' High Definition Audio', 'Backlit Kyb', 'Nanoedge Bezel', 'Microphone', 'Support Stylus', ' Spill resistant', 'TrackPoint', 'Lightweight', 'Dolby', 'Numeric Keypad', 'Narrow Bezel', 'Pen', ' TrackPoint', 'Multi-touch Gesture', 'InfinityEdge', ' Anti-glare Screen', 'Nanoedge', 'High Definition Audio', 'Anti- Glare', 'Backlit Keyboard.tikbot', 'Speakers', 'Alexa', 'Corning Gorilla Glass 6', ' Anti-reflection', ' Anti-smudge', 'premium business-class notebook', 'Stereo Speakers', 'Ultra-slim Bezel', 'Chiclet', ' Miracast Technology', ' Water Resistant', 'Anti-reflection', 'Anti-smudge', ' Corning Gorilla Glass', 'Anti Gla', 'Nano-edge Bezel', 'Stylus Pen', 'Backlight Keyboard', 'Killer WiFi 6E AX1675 (2x2 )', ' Steel Series per-Key RGB with Anti-Ghost key (84 Key)', ' Anti-Ghost key', 'Backlit Keyboard/windows', 'Backlit', 'Spill Resistant', 'Spill resistant', 'HD', 'Memory Card Slot', 'Ultra-narrow Bezel', 'Micro-edge Bezel', 'Corning Gorilla Glass 7', 'Rgb Backlit Keyboard', ' 32 GB RAM', 'light and compact design lets you stream', ' work', ' create', ' and play on a fast', '', 'Hd', 'Bezels', 'Alcohol-Free', 'Thin-bezel', 'Chiclet Keyboard', ' 1.5mm Key-travel ', ' camera', 'Anti-Glare', 'High Quality', 'Narrow', 'Speakers: Stereo', ' Keyboard: Chiclet', 'Water Proof', 'Amazon Alexa', 'Portable', 'Hd Audio', 'Waterproof', ' Ruggedized', ' Military Grade', 'Keypad', 'built for entertainment', ' multitasking & privacy', 'Narrow Bezels', 'Keyboard', 'Intel UHD Graphics with shared graphics memory', ' Long life battery', 'Fingerprint Sensor', 'Active Stylus', 'Touchscreen Laptop', ' Windows Laptop', ' i5 Laptop', 'FHD Touch Screen', 'Dishwasher Safe', 'Stereo', 'Stereo/', 'Space Saving', 'Fingerprint Power Button', '144Hz Refresh Rate', 'Multi Touch', ' Intel 9560 Jefferson Peak (2x2 802.11 ac)', ' White backlight 84 Key', 'Touchscreen', 'Ergonomic', 'Corning Gorilla Glass']\n"
=======
      "['Core i5 6200U', 'Core i7 Family', 'Intel Core i7', 'Intel Core i5', 'AMD Ryzen 7', 'Ryzen 5', 'Unknown', 'AMD R Series', 'Core i5 Family', 'Intel Core i5 1145G7', 'Intel Core i5-1135G7', nan, 'Ryzen 5 4600H', 'Ryzen 7', 'Core i7-10700T', 'Core I7 12700H', 'Core i3', 'Ryzen 7 5800H', 'Intel Mobile CPU', 68000, 'Apple M1', '1.2GHz Cortex A8 Processor', 'AMD Ryzen 5 5500U', 'Corei7-10750H', 'Intel Core i7-1165G7', 'Intel Core i7 1185G7', 8032, 'Core i7 7500U', 'Core i5-1035G1', 'AMD Ryzen 7 5800H', 'Ryzen 7 2700U', 'Ryzen 9', 'Intel Core i9', 'Core i9 7960X', 'Snapdragon', 'Intel Core i7 Extreme', 'Core i7-8650U', 'Core i5 7200U', 'Core I7 11800H', 'Intel Core Duo', 'Core i7 8750H', 'Intel Core i7 12800H', 'Core i7 8550U', 'AMD A Series', 'AMD Ryzen 9 5900X', 'Core i7-1065G7', 'Intel Core M-5Y10 Processor', 'A-Series Dual-Core A4-3300M', 'ARM 7100', 'Ryzen 7 4800H', 'Corei7-10875H', 'Core i5-3320M', 'Core i3-520M', 'MediaTek MT8183', 'Celeron', 'Celeron N4000', 'Core i5 5300U', 'Celeron N', 'Celeron N4020', 'Core i7-620M', 'Athlon', 'Intel Atom', 'Others', 'MediaTek_MT8127', 'Pentium', 'Celeron N3350', 'AMD A4', 'Core i7-12650H', 'Core i7-10510U', 'Ryzen 9 7900X', 'Intel Xeon', 'Celeron N3450', 'A10-7700K', 'Core i7-2620QM', 'Atom Z8350', 'Intel Celeron D', 'Pentium Other', 'Intel Core i3', 'Core i5-4210U', 'A-Series', 'Pentium N5000', 'Core i5-4200M', 'Ryzen 3 3250U', 'Core i3 Family', 'Core m3-8100Y', 'Core i5-2520M', 'Intel Core i5-4200U', 'Celeron P4500', 'Cortex', 'Ryzen 3', 'Core I3 1115G4', 'Apple M2', 'Core i7-13700K', 'Ryzen 3 3200U', 'MediaTek Helio P60T', 'Core i5 4310U', 'Ryzen 3 3350U', 'Core i5-5200U', 'Core i7-3720QM', 'Athlon Silver 3050U', 'Core i3-1005G1', 'Core i3-10110U', 'Intel Core 2 Quad', 'Apple M2 Max', 'Core i7-4700MQ', 'Core i3 8130U', 'Core i5-10210U', 'Core i5 8400T', 'Pentium N3540', 'Core i5-3317U', 'Core i3-1115G4E', 'Ryzen 3 4300U', 'Core i7 4600U', 'AMD Ryzen 3 2300X', 'Core i5-1130G7', 'Ryzen 7 4700U', 'Ryzen 5 4500U', 'AMD Kabini A6-5200M Quad Core', 'Ryzen 5 3500U', 'Celeron N2840', 'Core i5-655K', 'Ryzen 5 5500U', 'Core i5 4310M', 'Ryzen 3 1300X', 'Core i5 8250U', 'Intel Pentium 4', 'Core i5-10310Y', '1.2GHz Cortex A13 Processor', 'Intel Core i7-1355U', 'Ryzen 5 2600X', 'Intel Core i7-5850HQ', 'Core 2 Duo P8700', 'Core M Family', 'Core 2 Duo', 'Core i7 6600U', 'Celeron 3205U', 'Core i7 6700HQ', 'core_m', 'Core i5 2.3 GHz']\n"
>>>>>>> 2a75d950c8cbd9edfe8e353d92890179b2a46a39
     ]
    }
   ],
   "source": [
<<<<<<< HEAD
    "specials = list(df.special_features)\n",
    "vals = []\n",
    "for i in specials:\n",
    "    x = str(i).split(',')\n",
    "    for j in x:\n",
    "        if j not in vals:\n",
    "            vals.append(j)\n",
    "print(vals)"
   ]
  },
  {
   "cell_type": "code",
   "execution_count": 233,
   "id": "302ea98b",
   "metadata": {},
   "outputs": [],
   "source": [
    "df.drop(['rating'], axis=1, inplace=True)"
   ]
  },
  {
   "cell_type": "code",
   "execution_count": 235,
   "id": "2bf5c310",
   "metadata": {},
   "outputs": [
    {
     "data": {
      "text/html": [
       "<div>\n",
       "<style scoped>\n",
       "    .dataframe tbody tr th:only-of-type {\n",
       "        vertical-align: middle;\n",
       "    }\n",
       "\n",
       "    .dataframe tbody tr th {\n",
       "        vertical-align: top;\n",
       "    }\n",
       "\n",
       "    .dataframe thead th {\n",
       "        text-align: right;\n",
       "    }\n",
       "</style>\n",
       "<table border=\"1\" class=\"dataframe\">\n",
       "  <thead>\n",
       "    <tr style=\"text-align: right;\">\n",
       "      <th></th>\n",
       "      <th>brand</th>\n",
       "      <th>model</th>\n",
       "      <th>screen_size(inch)</th>\n",
       "      <th>color</th>\n",
       "      <th>harddisk(GB)</th>\n",
       "      <th>cpu</th>\n",
       "      <th>ram(GB)</th>\n",
       "      <th>OS</th>\n",
       "      <th>special_features</th>\n",
       "      <th>graphics</th>\n",
       "      <th>graphics_coprocessor</th>\n",
       "      <th>cpu_speed</th>\n",
       "      <th>price($)</th>\n",
       "    </tr>\n",
       "  </thead>\n",
       "  <tbody>\n",
       "    <tr>\n",
       "      <th>0</th>\n",
       "      <td>hp</td>\n",
       "      <td>EliteBook 840</td>\n",
       "      <td>14.0</td>\n",
       "      <td>platinum silver</td>\n",
       "      <td>256.0</td>\n",
       "      <td>Core i5 6200U</td>\n",
       "      <td>16.0</td>\n",
       "      <td>Windows 10 Pro</td>\n",
       "      <td>Anti Glare Coating</td>\n",
       "      <td>Integrated</td>\n",
       "      <td>NaN</td>\n",
       "      <td>NaN</td>\n",
       "      <td>1000.00</td>\n",
       "    </tr>\n",
       "    <tr>\n",
       "      <th>1</th>\n",
       "      <td>dell</td>\n",
       "      <td>Inspiron 15 3530</td>\n",
       "      <td>15.6</td>\n",
       "      <td>black</td>\n",
       "      <td>2000.0</td>\n",
       "      <td>Core i7 Family</td>\n",
       "      <td>64.0</td>\n",
       "      <td>Windows 11 Home</td>\n",
       "      <td>NaN</td>\n",
       "      <td>Integrated</td>\n",
       "      <td>Intel Iris Xe Graphics</td>\n",
       "      <td>NaN</td>\n",
       "      <td>1000.00</td>\n",
       "    </tr>\n",
       "    <tr>\n",
       "      <th>2</th>\n",
       "      <td>dell</td>\n",
       "      <td>Vostro 3510 Laptop</td>\n",
       "      <td>15.6</td>\n",
       "      <td>black</td>\n",
       "      <td>1000.0</td>\n",
       "      <td>Core i7</td>\n",
       "      <td>32.0</td>\n",
       "      <td>Windows 10 Home</td>\n",
       "      <td>Wifi &amp; Bluetooth</td>\n",
       "      <td>Integrated</td>\n",
       "      <td>NaN</td>\n",
       "      <td>NaN</td>\n",
       "      <td>1000.99</td>\n",
       "    </tr>\n",
       "    <tr>\n",
       "      <th>3</th>\n",
       "      <td>dell</td>\n",
       "      <td>Inspiron 7420 2-in-1</td>\n",
       "      <td>14.0</td>\n",
       "      <td>gray, platinum silver</td>\n",
       "      <td>2000.0</td>\n",
       "      <td>Core i5</td>\n",
       "      <td>64.0</td>\n",
       "      <td>Windows 11 Pro</td>\n",
       "      <td>NaN</td>\n",
       "      <td>Integrated</td>\n",
       "      <td>Intel Integrated Graphics</td>\n",
       "      <td>NaN</td>\n",
       "      <td>1001.11</td>\n",
       "    </tr>\n",
       "    <tr>\n",
       "      <th>4</th>\n",
       "      <td>msi</td>\n",
       "      <td>Prestige 14Evo A11MO-217</td>\n",
       "      <td>14.0</td>\n",
       "      <td>other</td>\n",
       "      <td>NaN</td>\n",
       "      <td>Core i7</td>\n",
       "      <td>32.0</td>\n",
       "      <td>Windows 10</td>\n",
       "      <td>Anti-glare,Thin Bezel</td>\n",
       "      <td>Integrated</td>\n",
       "      <td>Intel Iris Xe Graphics</td>\n",
       "      <td>NaN</td>\n",
       "      <td>1001.18</td>\n",
       "    </tr>\n",
       "  </tbody>\n",
       "</table>\n",
       "</div>"
      ],
      "text/plain": [
       "  brand                     model  screen_size(inch)                  color  \\\n",
       "0    hp             EliteBook 840               14.0        platinum silver   \n",
       "1  dell          Inspiron 15 3530               15.6                  black   \n",
       "2  dell        Vostro 3510 Laptop               15.6                  black   \n",
       "3  dell      Inspiron 7420 2-in-1               14.0  gray, platinum silver   \n",
       "4   msi  Prestige 14Evo A11MO-217               14.0                  other   \n",
       "\n",
       "   harddisk(GB)             cpu  ram(GB)               OS  \\\n",
       "0         256.0   Core i5 6200U     16.0   Windows 10 Pro   \n",
       "1        2000.0  Core i7 Family     64.0  Windows 11 Home   \n",
       "2        1000.0         Core i7     32.0  Windows 10 Home   \n",
       "3        2000.0         Core i5     64.0   Windows 11 Pro   \n",
       "4           NaN         Core i7     32.0       Windows 10   \n",
       "\n",
       "        special_features    graphics       graphics_coprocessor cpu_speed  \\\n",
       "0     Anti Glare Coating  Integrated                        NaN       NaN   \n",
       "1                    NaN  Integrated     Intel Iris Xe Graphics       NaN   \n",
       "2       Wifi & Bluetooth  Integrated                        NaN       NaN   \n",
       "3                    NaN  Integrated  Intel Integrated Graphics       NaN   \n",
       "4  Anti-glare,Thin Bezel  Integrated     Intel Iris Xe Graphics       NaN   \n",
       "\n",
       "   price($)  \n",
       "0   1000.00  \n",
       "1   1000.00  \n",
       "2   1000.99  \n",
       "3   1001.11  \n",
       "4   1001.18  "
      ]
     },
     "execution_count": 235,
     "metadata": {},
     "output_type": "execute_result"
    }
   ],
   "source": [
    "df.head()"
   ]
  },
  {
   "cell_type": "code",
   "execution_count": 237,
   "id": "d8946e28",
   "metadata": {},
   "outputs": [
    {
     "data": {
      "text/plain": [
       "Core i7            774\n",
       "Core i5            553\n",
       "Core i7 Family     166\n",
       "Core i9            136\n",
       "Intel Core i7       83\n",
       "                  ... \n",
       "Core i5-4200M        1\n",
       "Pentium N5000        1\n",
       "Core i5-4210U        1\n",
       "Atom Z8350           1\n",
       "Core i5 2.3 GHz      1\n",
       "Name: cpu, Length: 137, dtype: int64"
      ]
     },
     "execution_count": 237,
     "metadata": {},
     "output_type": "execute_result"
    }
   ],
   "source": [
    "df.cpu.value_counts()"
   ]
  },
  {
   "cell_type": "code",
   "execution_count": 241,
   "id": "f3a1f449",
   "metadata": {},
   "outputs": [],
   "source": [
    "df[\"cpu\"].loc[df[\"cpu\"] == \"Core i7\"] = \"Intel Core i7\"\n",
    "df['cpu'].loc[df[\"cpu\"] == \"Core i5\"] = \"Intel Core i5\"\n",
    "df['cpu'].loc[df[\"cpu\"] == \"Core i9\"] = \"Intel Core i9\""
   ]
  },
  {
   "cell_type": "code",
   "execution_count": 242,
   "id": "c52a573c",
   "metadata": {},
   "outputs": [
    {
     "data": {
      "text/plain": [
       "Intel Core i7      857\n",
       "Intel Core i5      592\n",
       "Intel Core i9      173\n",
       "Core i7 Family     166\n",
       "AMD Ryzen 7         63\n",
       "                  ... \n",
       "Core i5-4200M        1\n",
       "Pentium N5000        1\n",
       "Core i5-4210U        1\n",
       "Atom Z8350           1\n",
       "Core i5 2.3 GHz      1\n",
       "Name: cpu, Length: 134, dtype: int64"
      ]
     },
     "execution_count": 242,
     "metadata": {},
     "output_type": "execute_result"
    }
   ],
   "source": [
    "df.cpu.value_counts()"
=======
    "cpu = list(df[\"cpu\"])\n",
    "whole = []\n",
    "for i in cpu:\n",
    "    if i not in whole:\n",
    "        whole.append(i)\n",
    "        \n",
    "print(whole)"
>>>>>>> 2a75d950c8cbd9edfe8e353d92890179b2a46a39
   ]
  },
  {
   "cell_type": "code",
   "execution_count": null,
<<<<<<< HEAD
   "id": "194b9224",
=======
   "id": "b78a35d9",
   "metadata": {},
   "outputs": [],
   "source": []
  },
  {
   "cell_type": "code",
   "execution_count": null,
   "id": "20ebb3f3",
   "metadata": {},
   "outputs": [],
   "source": []
  },
  {
   "cell_type": "code",
   "execution_count": null,
   "id": "d193793c",
   "metadata": {},
   "outputs": [],
   "source": []
  },
  {
   "cell_type": "code",
   "execution_count": null,
   "id": "a7d33b55",
   "metadata": {},
   "outputs": [],
   "source": []
  },
  {
   "cell_type": "code",
   "execution_count": null,
   "id": "6b34145a",
   "metadata": {},
   "outputs": [],
   "source": []
  },
  {
   "cell_type": "code",
   "execution_count": null,
   "id": "bb9a80ed",
   "metadata": {},
   "outputs": [],
   "source": []
  },
  {
   "cell_type": "code",
   "execution_count": null,
   "id": "2b95dc6a",
   "metadata": {},
   "outputs": [],
   "source": []
  },
  {
   "cell_type": "code",
   "execution_count": null,
   "id": "be40cfa5",
>>>>>>> 2a75d950c8cbd9edfe8e353d92890179b2a46a39
   "metadata": {},
   "outputs": [],
   "source": []
  }
 ],
 "metadata": {
  "kernelspec": {
   "display_name": "Python 3 (ipykernel)",
   "language": "python",
   "name": "python3"
  },
  "language_info": {
   "codemirror_mode": {
    "name": "ipython",
    "version": 3
   },
   "file_extension": ".py",
   "mimetype": "text/x-python",
   "name": "python",
   "nbconvert_exporter": "python",
   "pygments_lexer": "ipython3",
   "version": "3.9.12"
  }
 },
 "nbformat": 4,
 "nbformat_minor": 5
}
